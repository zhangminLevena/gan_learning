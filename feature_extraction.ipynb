{
 "cells": [
  {
   "cell_type": "code",
   "execution_count": null,
   "metadata": {
    "collapsed": true
   },
   "outputs": [],
   "source": [
    "import tensorflow as tf\n",
    "import os\n",
    "import numpy as np\n",
    "n_input=30\n",
    "n_hidden_1=30\n",
    "n_hidden_2=30\n",
    "n_classes=3\n",
    "real_input=tf.placeholder(tf.float32,[569,30],\"real_input\")\n",
    "real_label=tf.placeholder(tf.int32,[569],\"real_label\")\n",
    "real_label=tf.one_hot(real_label,3)\n",
    "fake_input=tf.get_variable(\"fake_input\",[569,30],dtype=tf.float32,initializer=tf.random_normal_initializer(0, 0.02))\n",
    "fake_label=tf.constant(2,tf.int32,[569],\"fake\")\n",
    "fake_label=tf.one_hot(fake_label,3)\n",
    "#这里应该是\n",
    "def multilayer_perceptron(x,name):\n",
    "    weigh1=tf.get_variable(\"weight1\",[n_input,n_hidden_1],dtype=tf.float32,initializer=tf.random_normal_initializer(0, 0.02))\n",
    "    # Hidden layer with RELU activation\n",
    "    bias1=tf.get_variable(\"bias1\",[n_hidden_1],dtype=tf.float32,initializer=tf.random_normal_initializer(0,0.02))\n",
    "    \n",
    "    layer_1 = tf.add(tf.matmul(x, weigh1), bias1)\n",
    "    layer_1 = tf.nn.relu(layer_1)\n",
    "    # Hidden layer with RELU activation\n",
    "    weigh2=tf.get_variable(\"weight2\",[n_hidden_1,n_hidden_2],dtype=tf.float32,initializer=tf.random_normal_initializer(0, 0.02))\n",
    "    bias2=tf.get_variable(\"bias2\",[n_hidden_2],dtype=tf.float32,initializer=tf.random_normal_initializer(0,0.02))\n",
    "    layer_2 = tf.add(tf.matmul(layer_1, weigh2), bias2)\n",
    "    layer_2 = tf.nn.relu(layer_2)\n",
    "    # Output layer with linear activation\n",
    "    if name==\"generator\":\n",
    "        out_layer=layer_2\n",
    "    else:\n",
    "        weigh3=tf.get_variable(\"weight2\",[n_hidden_2,n_classes],dtype=tf.float32,initializer=tf.random_normal_initializer(0, 0.02))\n",
    "        bias3=tf.get_variable(\"bias3\",[n_classes],dtype=tf.float32,initializer=tf.random_normal_initializer(0,0.02))\n",
    "        out_layer = tf.matmul(layer_2, weigh3) + bias3\n",
    "    return out_layer\n",
    "\n",
    "with tf.name_scope(\"generator\"):\n",
    "    out=multilayer_perceptron(batch_input,\"generator\")\n",
    "\n",
    "def discriminator(batch_input,batch_label):\n",
    "    with tf.name_scope(\"discriminator\"):\n",
    "        out=multilayer_perceptron(batch_input,\"discriminator\")\n",
    "        cross_entropy=tf.nn.softmax_cross_entropy_with_logits(logits=out,labels=batch_label)\n",
    "        return cross_entropy\n",
    "with tf.name_scope(\"real_discriminator\"):\n",
    "    with tf.variable_scope(\"discriminator\"):\n",
    "        real_predict=discriminator(real_input,real_label)\n",
    "with tf.name_scope(\"fake_discriminator\"):\n",
    "    with tf.variable_scope(\"discriminator\",reuse=True):\n",
    "        fake_predict=discriminator(fake_input,fake_label)\n",
    "with tf.name_scope(\"genertor_loss\"):\n",
    "    gen_loss=tf.reduce_mean(-tf.log(fake_predict))\n",
    "\n",
    "with tf.name_scope(\"discriminator_loss\"):\n",
    "    discrim_loss=tf.reduce_mean(-(tf.log(real_predict)+tf.log(1-fake_label)))\n",
    "\n",
    "with tf.name_scope(\"generator_train\"):\n",
    "    vars_gen=[var for var in tf.trainable_variables() if var.name.startswith(\"generator\")]\n",
    "    gen_optim=tf.train.AdamOptimizer(0.001,0.9)\n",
    "    gradients=gen_optim.compute_gradients(gen_loss,var_list=vars_gen)\n",
    "    gen_train=gen_optim.apply_gradients(vars_gen)\n",
    "with tf.name_scope(\"discriminator_train\"):\n",
    "    discrim_vars=[var for var in tf.trainable_variables() if var.name.startswith(\"discriminator\")]\n",
    "    discrim_optim=tf.train.AdamOptimizer(0.001,0.9)\n",
    "    gradients=discrim_optim.compute_gradients(discrim_loss,var_list=discrim_vars)\n",
    "    discrim_train=discrim_optim.apply_gradients(discrim_vars)\n"
   ]
  },
  {
   "cell_type": "code",
   "execution_count": 9,
   "metadata": {},
   "outputs": [
    {
     "name": "stdout",
     "output_type": "stream",
     "text": [
      "(569, 32)\n"
     ]
    }
   ],
   "source": [
    "import numpy as np\n",
    "data=np.genfromtxt(\"/home/zzq/research/gan_learning/brancer.csv\",dtype='unicode',delimiter=',')\n",
    "print data.shape"
   ]
  },
  {
   "cell_type": "code",
   "execution_count": 10,
   "metadata": {},
   "outputs": [
    {
     "name": "stdout",
     "output_type": "stream",
     "text": [
      "[u'M' u'M' u'M' u'M' u'M' u'M' u'M' u'M' u'M' u'M' u'M' u'M' u'M' u'M' u'M'\n u'M' u'M' u'M' u'M' u'B' u'B' u'B' u'M' u'M' u'M' u'M' u'M' u'M' u'M' u'M'\n u'M' u'M' u'M' u'M' u'M' u'M' u'M' u'B' u'M' u'M' u'M' u'M' u'M' u'M' u'M'\n u'M' u'B' u'M' u'B' u'B' u'B' u'B' u'B' u'M' u'M' u'B' u'M' u'M' u'B' u'B'\n u'B' u'B' u'M' u'B' u'M' u'M' u'B' u'B' u'B' u'B' u'M' u'B' u'M' u'M' u'B'\n u'M' u'B' u'M' u'M' u'B' u'B' u'B' u'M' u'M' u'B' u'M' u'M' u'M' u'B' u'B'\n u'B' u'M' u'B' u'B' u'M' u'M' u'B' u'B' u'B' u'M' u'M' u'B' u'B' u'B' u'B'\n u'M' u'B' u'B' u'M' u'B' u'B' u'B' u'B' u'B' u'B' u'B' u'B' u'M' u'M' u'M'\n u'B' u'M' u'M' u'B' u'B' u'B' u'M' u'M' u'B' u'M' u'B' u'M' u'M' u'B' u'M'\n u'M' u'B' u'B' u'M' u'B' u'B' u'M' u'B' u'B' u'B' u'B' u'M' u'B' u'B' u'B'\n u'B' u'B' u'B' u'B' u'B' u'B' u'M' u'B' u'B' u'B' u'B' u'M' u'M' u'B' u'M'\n u'B' u'B' u'M' u'M' u'B' u'B' u'M' u'M' u'B' u'B' u'B' u'B' u'M' u'B' u'B'\n u'M' u'M' u'M' u'B' u'M' u'B' u'M' u'B' u'B' u'B' u'M' u'B' u'B' u'M' u'M'\n u'B' u'M' u'M' u'M' u'M' u'B' u'M' u'M' u'M' u'B' u'M' u'B' u'M' u'B' u'B'\n u'M' u'B' u'M' u'M' u'M' u'M' u'B' u'B' u'M' u'M' u'B' u'B' u'B' u'M' u'B'\n u'B' u'B' u'B' u'B' u'M' u'M' u'B' u'B' u'M' u'B' u'B' u'M' u'M' u'B' u'M'\n u'B' u'B' u'B' u'B' u'M' u'B' u'B' u'B' u'B' u'B' u'M' u'B' u'M' u'M' u'M'\n u'M' u'M' u'M' u'M' u'M' u'M' u'M' u'M' u'M' u'M' u'M' u'B' u'B' u'B' u'B'\n u'B' u'B' u'M' u'B' u'M' u'B' u'B' u'M' u'B' u'B' u'M' u'B' u'M' u'M' u'B'\n u'B' u'B' u'B' u'B' u'B' u'B' u'B' u'B' u'B' u'B' u'B' u'B' u'M' u'B' u'B'\n u'M' u'B' u'M' u'B' u'B' u'B' u'B' u'B' u'B' u'B' u'B' u'B' u'B' u'B' u'B'\n u'B' u'B' u'M' u'B' u'B' u'B' u'M' u'B' u'M' u'B' u'B' u'B' u'B' u'M' u'M'\n u'M' u'B' u'B' u'B' u'B' u'M' u'B' u'M' u'B' u'M' u'B' u'B' u'B' u'M' u'B'\n u'B' u'B' u'B' u'B' u'B' u'B' u'M' u'M' u'M' u'B' u'B' u'B' u'B' u'B' u'B'\n u'B' u'B' u'B' u'B' u'B' u'M' u'M' u'B' u'M' u'M' u'M' u'B' u'M' u'M' u'B'\n u'B' u'B' u'B' u'B' u'M' u'B' u'B' u'B' u'B' u'B' u'M' u'B' u'B' u'B' u'M'\n u'B' u'B' u'M' u'M' u'B' u'B' u'B' u'B' u'B' u'B' u'M' u'B' u'B' u'B' u'B'\n u'B' u'B' u'B' u'M' u'B' u'B' u'B' u'B' u'B' u'M' u'B' u'B' u'M' u'B' u'B'\n u'B' u'B' u'B' u'B' u'B' u'B' u'B' u'B' u'B' u'B' u'M' u'B' u'M' u'M' u'B'\n u'M' u'B' u'B' u'B' u'B' u'B' u'M' u'B' u'B' u'M' u'B' u'M' u'B' u'B' u'M'\n u'B' u'M' u'B' u'B' u'B' u'B' u'B' u'B' u'B' u'B' u'M' u'M' u'B' u'B' u'B'\n u'B' u'B' u'B' u'M' u'B' u'B' u'B' u'B' u'B' u'B' u'B' u'B' u'B' u'B' u'M'\n u'B' u'B' u'B' u'B' u'B' u'B' u'B' u'M' u'B' u'M' u'B' u'B' u'M' u'B' u'B'\n u'B' u'B' u'B' u'M' u'M' u'B' u'M' u'B' u'M' u'B' u'B' u'B' u'B' u'B' u'M'\n u'B' u'B' u'M' u'B' u'M' u'B' u'M' u'M' u'B' u'B' u'B' u'M' u'B' u'B' u'B'\n u'B' u'B' u'B' u'B' u'B' u'B' u'B' u'B' u'M' u'B' u'M' u'M' u'B' u'B' u'B'\n u'B' u'B' u'B' u'B' u'B' u'B' u'B' u'B' u'B' u'B' u'B' u'B' u'B' u'B' u'B'\n u'B' u'B' u'B' u'B' u'B' u'B' u'B' u'M' u'M' u'M' u'M' u'M' u'M' u'B']\n"
     ]
    }
   ],
   "source": [
    "pre_data=data[:,2:]\n",
    "label=data[:,1]\n",
    "print label"
   ]
  },
  {
   "cell_type": "code",
   "execution_count": 11,
   "metadata": {},
   "outputs": [],
   "source": [
    "for i in range(len(label)):\n",
    "    if label[i]=='M':\n",
    "        label[i]=1.\n",
    "    else:\n",
    "        label[i]=0."
   ]
  },
  {
   "cell_type": "code",
   "execution_count": 12,
   "metadata": {},
   "outputs": [
    {
     "name": "stdout",
     "output_type": "stream",
     "text": [
      "[u'1.0' u'1.0' u'1.0' u'1.0' u'1.0' u'1.0' u'1.0' u'1.0' u'1.0' u'1.0'\n u'1.0' u'1.0' u'1.0' u'1.0' u'1.0' u'1.0' u'1.0' u'1.0' u'1.0' u'0.0'\n u'0.0' u'0.0' u'1.0' u'1.0' u'1.0' u'1.0' u'1.0' u'1.0' u'1.0' u'1.0'\n u'1.0' u'1.0' u'1.0' u'1.0' u'1.0' u'1.0' u'1.0' u'0.0' u'1.0' u'1.0'\n u'1.0' u'1.0' u'1.0' u'1.0' u'1.0' u'1.0' u'0.0' u'1.0' u'0.0' u'0.0'\n u'0.0' u'0.0' u'0.0' u'1.0' u'1.0' u'0.0' u'1.0' u'1.0' u'0.0' u'0.0'\n u'0.0' u'0.0' u'1.0' u'0.0' u'1.0' u'1.0' u'0.0' u'0.0' u'0.0' u'0.0'\n u'1.0' u'0.0' u'1.0' u'1.0' u'0.0' u'1.0' u'0.0' u'1.0' u'1.0' u'0.0'\n u'0.0' u'0.0' u'1.0' u'1.0' u'0.0' u'1.0' u'1.0' u'1.0' u'0.0' u'0.0'\n u'0.0' u'1.0' u'0.0' u'0.0' u'1.0' u'1.0' u'0.0' u'0.0' u'0.0' u'1.0'\n u'1.0' u'0.0' u'0.0' u'0.0' u'0.0' u'1.0' u'0.0' u'0.0' u'1.0' u'0.0'\n u'0.0' u'0.0' u'0.0' u'0.0' u'0.0' u'0.0' u'0.0' u'1.0' u'1.0' u'1.0'\n u'0.0' u'1.0' u'1.0' u'0.0' u'0.0' u'0.0' u'1.0' u'1.0' u'0.0' u'1.0'\n u'0.0' u'1.0' u'1.0' u'0.0' u'1.0' u'1.0' u'0.0' u'0.0' u'1.0' u'0.0'\n u'0.0' u'1.0' u'0.0' u'0.0' u'0.0' u'0.0' u'1.0' u'0.0' u'0.0' u'0.0'\n u'0.0' u'0.0' u'0.0' u'0.0' u'0.0' u'0.0' u'1.0' u'0.0' u'0.0' u'0.0'\n u'0.0' u'1.0' u'1.0' u'0.0' u'1.0' u'0.0' u'0.0' u'1.0' u'1.0' u'0.0'\n u'0.0' u'1.0' u'1.0' u'0.0' u'0.0' u'0.0' u'0.0' u'1.0' u'0.0' u'0.0'\n u'1.0' u'1.0' u'1.0' u'0.0' u'1.0' u'0.0' u'1.0' u'0.0' u'0.0' u'0.0'\n u'1.0' u'0.0' u'0.0' u'1.0' u'1.0' u'0.0' u'1.0' u'1.0' u'1.0' u'1.0'\n u'0.0' u'1.0' u'1.0' u'1.0' u'0.0' u'1.0' u'0.0' u'1.0' u'0.0' u'0.0'\n u'1.0' u'0.0' u'1.0' u'1.0' u'1.0' u'1.0' u'0.0' u'0.0' u'1.0' u'1.0'\n u'0.0' u'0.0' u'0.0' u'1.0' u'0.0' u'0.0' u'0.0' u'0.0' u'0.0' u'1.0'\n u'1.0' u'0.0' u'0.0' u'1.0' u'0.0' u'0.0' u'1.0' u'1.0' u'0.0' u'1.0'\n u'0.0' u'0.0' u'0.0' u'0.0' u'1.0' u'0.0' u'0.0' u'0.0' u'0.0' u'0.0'\n u'1.0' u'0.0' u'1.0' u'1.0' u'1.0' u'1.0' u'1.0' u'1.0' u'1.0' u'1.0'\n u'1.0' u'1.0' u'1.0' u'1.0' u'1.0' u'1.0' u'0.0' u'0.0' u'0.0' u'0.0'\n u'0.0' u'0.0' u'1.0' u'0.0' u'1.0' u'0.0' u'0.0' u'1.0' u'0.0' u'0.0'\n u'1.0' u'0.0' u'1.0' u'1.0' u'0.0' u'0.0' u'0.0' u'0.0' u'0.0' u'0.0'\n u'0.0' u'0.0' u'0.0' u'0.0' u'0.0' u'0.0' u'0.0' u'1.0' u'0.0' u'0.0'\n u'1.0' u'0.0' u'1.0' u'0.0' u'0.0' u'0.0' u'0.0' u'0.0' u'0.0' u'0.0'\n u'0.0' u'0.0' u'0.0' u'0.0' u'0.0' u'0.0' u'0.0' u'1.0' u'0.0' u'0.0'\n u'0.0' u'1.0' u'0.0' u'1.0' u'0.0' u'0.0' u'0.0' u'0.0' u'1.0' u'1.0'\n u'1.0' u'0.0' u'0.0' u'0.0' u'0.0' u'1.0' u'0.0' u'1.0' u'0.0' u'1.0'\n u'0.0' u'0.0' u'0.0' u'1.0' u'0.0' u'0.0' u'0.0' u'0.0' u'0.0' u'0.0'\n u'0.0' u'1.0' u'1.0' u'1.0' u'0.0' u'0.0' u'0.0' u'0.0' u'0.0' u'0.0'\n u'0.0' u'0.0' u'0.0' u'0.0' u'0.0' u'1.0' u'1.0' u'0.0' u'1.0' u'1.0'\n u'1.0' u'0.0' u'1.0' u'1.0' u'0.0' u'0.0' u'0.0' u'0.0' u'0.0' u'1.0'\n u'0.0' u'0.0' u'0.0' u'0.0' u'0.0' u'1.0' u'0.0' u'0.0' u'0.0' u'1.0'\n u'0.0' u'0.0' u'1.0' u'1.0' u'0.0' u'0.0' u'0.0' u'0.0' u'0.0' u'0.0'\n u'1.0' u'0.0' u'0.0' u'0.0' u'0.0' u'0.0' u'0.0' u'0.0' u'1.0' u'0.0'\n u'0.0' u'0.0' u'0.0' u'0.0' u'1.0' u'0.0' u'0.0' u'1.0' u'0.0' u'0.0'\n u'0.0' u'0.0' u'0.0' u'0.0' u'0.0' u'0.0' u'0.0' u'0.0' u'0.0' u'0.0'\n u'1.0' u'0.0' u'1.0' u'1.0' u'0.0' u'1.0' u'0.0' u'0.0' u'0.0' u'0.0'\n u'0.0' u'1.0' u'0.0' u'0.0' u'1.0' u'0.0' u'1.0' u'0.0' u'0.0' u'1.0'\n u'0.0' u'1.0' u'0.0' u'0.0' u'0.0' u'0.0' u'0.0' u'0.0' u'0.0' u'0.0'\n u'1.0' u'1.0' u'0.0' u'0.0' u'0.0' u'0.0' u'0.0' u'0.0' u'1.0' u'0.0'\n u'0.0' u'0.0' u'0.0' u'0.0' u'0.0' u'0.0' u'0.0' u'0.0' u'0.0' u'1.0'\n u'0.0' u'0.0' u'0.0' u'0.0' u'0.0' u'0.0' u'0.0' u'1.0' u'0.0' u'1.0'\n u'0.0' u'0.0' u'1.0' u'0.0' u'0.0' u'0.0' u'0.0' u'0.0' u'1.0' u'1.0'\n u'0.0' u'1.0' u'0.0' u'1.0' u'0.0' u'0.0' u'0.0' u'0.0' u'0.0' u'1.0'\n u'0.0' u'0.0' u'1.0' u'0.0' u'1.0' u'0.0' u'1.0' u'1.0' u'0.0' u'0.0'\n u'0.0' u'1.0' u'0.0' u'0.0' u'0.0' u'0.0' u'0.0' u'0.0' u'0.0' u'0.0'\n u'0.0' u'0.0' u'0.0' u'1.0' u'0.0' u'1.0' u'1.0' u'0.0' u'0.0' u'0.0'\n u'0.0' u'0.0' u'0.0' u'0.0' u'0.0' u'0.0' u'0.0' u'0.0' u'0.0' u'0.0'\n u'0.0' u'0.0' u'0.0' u'0.0' u'0.0' u'0.0' u'0.0' u'0.0' u'0.0' u'0.0'\n u'0.0' u'0.0' u'1.0' u'1.0' u'1.0' u'1.0' u'1.0' u'1.0' u'0.0']\n"
     ]
    }
   ],
   "source": [
    "print label"
   ]
  },
  {
   "cell_type": "code",
   "execution_count": 13,
   "metadata": {},
   "outputs": [
    {
     "name": "stdout",
     "output_type": "stream",
     "text": [
      "(569, 30)\n"
     ]
    }
   ],
   "source": [
    "print pre_data.shape"
   ]
  },
  {
   "cell_type": "code",
   "execution_count": null,
   "metadata": {},
   "outputs": [],
   "source": [
    ""
   ]
  }
 ],
 "metadata": {
  "kernelspec": {
   "display_name": "Python 2",
   "language": "python",
   "name": "python2"
  },
  "language_info": {
   "codemirror_mode": {
    "name": "ipython",
    "version": 2.0
   },
   "file_extension": ".py",
   "mimetype": "text/x-python",
   "name": "python",
   "nbconvert_exporter": "python",
   "pygments_lexer": "ipython2",
   "version": "2.7.6"
  }
 },
 "nbformat": 4,
 "nbformat_minor": 0
}