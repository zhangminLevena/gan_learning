{
 "cells": [
  {
   "cell_type": "code",
   "execution_count": 8,
   "metadata": {
    "collapsed": true
   },
   "outputs": [],
   "source": [
    "import os\n",
    "import glob\n",
    "from PIL import Image\n",
    "emotion=['Anger',\n",
    "'Contempt',\n",
    "'Disgust',\n",
    "'Embarrass',\n",
    "'Fear',\n",
    "'Joy',\n",
    "'Sad',\n",
    "'Surprise']\n",
    "name=['F06','F07','F08','F09','M01','M05','M07','M09','M10',]"
   ]
  },
  {
   "cell_type": "code",
   "execution_count": 10,
   "metadata": {},
   "outputs": [],
   "source": [
    "UNIT_SIZE=256\n",
    "TARGET_WIDTH=512\n",
    "root='/home/zzq/Downloads/ADFES/40/Apex Stills/'\n",
    "for i in range(len(name)):\n",
    "    if name[i]=='F06' or name[i]=='M01':\n",
    "        base_img=Image.open(root+name[i]+'-Neutral.jpg')\n",
    "        le=base_img.resize((256,256),Image.ANTIALIAS)\n",
    "        for j in range(len(emotion)):\n",
    "            r=Image.open(root+name[i]+'-'+emotion[j]+'-Apex.jpg')\n",
    "            ri=r.resize((256,256),Image.ANTIALIAS)\n",
    "            target = Image.new('RGB', (TARGET_WIDTH,UNIT_SIZE)) \n",
    "            target.paste(le, (0, 0, 256, UNIT_SIZE))# 将image复制到target的指定位置中\n",
    "            target.paste(ri, (256, 0, 512, UNIT_SIZE))# 将image复制到target的指定位置中\n",
    "            target.save('/home/zzq/Downloads/ADFES/val/'+name[i]+emotion[j]+str(j)+'.jpg')\n",
    "    else:\n",
    "        base_img=Image.open(root+name[i]+'-Neutral.jpg')\n",
    "        le=base_img.resize((256,256),Image.ANTIALIAS)\n",
    "        for j in range(len(emotion)):\n",
    "            r=Image.open(root+name[i]+'-'+emotion[j]+'-Apex.jpg')\n",
    "            ri=r.resize((256,256),Image.ANTIALIAS)\n",
    "            target = Image.new('RGB', (TARGET_WIDTH,UNIT_SIZE)) \n",
    "            target.paste(le, (0, 0, 256, UNIT_SIZE))# 将image复制到target的指定位置中\n",
    "            target.paste(ri, (256, 0, 512, UNIT_SIZE))# 将image复制到target的指定位置中\n",
    "            target.save('/home/zzq/Downloads/ADFES/train/'+name[i]+emotion[j]+str(j)+'.jpg')"
   ]
  },
  {
   "cell_type": "code",
   "execution_count": 11,
   "metadata": {},
   "outputs": [],
   "source": [
    "UNIT_SIZE=256\n",
    "TARGET_WIDTH=512\n",
    "name=['F01','F02','F03','F04','F05','M02','M03','M04','M06','M08','M11','M12']\n",
    "root='/home/zzq/Downloads/ADFES/50/Apex Stills/'\n",
    "for i in range(len(name)):\n",
    "    if name[i]=='F01' or name[i]=='M11':\n",
    "        base_img=Image.open(root+name[i]+'-Neutral.jpg')\n",
    "        le=base_img.resize((256,256),Image.ANTIALIAS)\n",
    "        for j in range(len(emotion)):\n",
    "            r=Image.open(root+name[i]+'-'+emotion[j]+'-Apex.jpg')\n",
    "            ri=r.resize((256,256),Image.ANTIALIAS)\n",
    "            target = Image.new('RGB', (TARGET_WIDTH,UNIT_SIZE)) \n",
    "            target.paste(le, (0, 0, 256, UNIT_SIZE))# 将image复制到target的指定位置中\n",
    "            target.paste(ri, (256, 0, 512, UNIT_SIZE))# 将image复制到target的指定位置中\n",
    "            target.save('/home/zzq/Downloads/ADFES/val/'+name[i]+emotion[j]+str(j)+'.jpg')\n",
    "    else:\n",
    "        base_img=Image.open(root+name[i]+'-Neutral.jpg')\n",
    "        le=base_img.resize((256,256),Image.ANTIALIAS)\n",
    "        for j in range(len(emotion)):\n",
    "            r=Image.open(root+name[i]+'-'+emotion[j]+'-Apex.jpg')\n",
    "            ri=r.resize((256,256),Image.ANTIALIAS)\n",
    "            target = Image.new('RGB', (TARGET_WIDTH,UNIT_SIZE)) \n",
    "            target.paste(le, (0, 0, 256, UNIT_SIZE))# 将image复制到target的指定位置中\n",
    "            target.paste(ri, (256, 0, 512, UNIT_SIZE))# 将image复制到target的指定位置中\n",
    "            target.save('/home/zzq/Downloads/ADFES/train/'+name[i]+emotion[j]+str(j)+'.jpg')"
   ]
  },
  {
   "cell_type": "code",
   "execution_count": null,
   "metadata": {},
   "outputs": [],
   "source": [
    ""
   ]
  }
 ],
 "metadata": {
  "kernelspec": {
   "display_name": "Python 2",
   "language": "python",
   "name": "python2"
  },
  "language_info": {
   "codemirror_mode": {
    "name": "ipython",
    "version": 2.0
   },
   "file_extension": ".py",
   "mimetype": "text/x-python",
   "name": "python",
   "nbconvert_exporter": "python",
   "pygments_lexer": "ipython2",
   "version": "2.7.6"
  }
 },
 "nbformat": 4,
 "nbformat_minor": 0
}