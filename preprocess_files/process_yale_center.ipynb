{
 "cells": [
  {
   "cell_type": "code",
   "execution_count": 2,
   "metadata": {
    "collapsed": true
   },
   "outputs": [],
   "source": [
    "import os\n",
    "import glob\n",
    "from PIL import Image\n",
    "name=['happy','sad','sleepy','surprised','wink']\n",
    "for i in range(15):\n",
    "    img=Image.open(\"/home/zzq/research/windows_file/yalefaces/centered/subject\"+str(i+1).zfill(2)+'.normal.pgm')\n",
    "    l=img.resize((256,256),Image.ANTIALIAS)\n",
    "    for j in range(5):\n",
    "        right=Image.open(\"/home/zzq/research/windows_file/yalefaces/centered/subject\"+str(i+1).zfill(2)+'.'+name[j]+'.pgm')\n",
    "        r=right.resize((256,256),Image.ANTIALIAS)\n",
    "        target=Image.new(\"RGB\",(512,256))\n",
    "        target.paste(l,(0,0,256,256))\n",
    "        target.paste(r,(256,0,512,256))\n",
    "        target.save(\"/home/zzq/research/windows_file/yalefaces/yalefaces/subject\"+str(i+1).zfill(2)+'_'+str(j)+'.jpg')"
   ]
  },
  {
   "cell_type": "code",
   "execution_count": null,
   "metadata": {},
   "outputs": [],
   "source": [
    ""
   ]
  }
 ],
 "metadata": {
  "kernelspec": {
   "display_name": "Python 2",
   "language": "python",
   "name": "python2"
  },
  "language_info": {
   "codemirror_mode": {
    "name": "ipython",
    "version": 2.0
   },
   "file_extension": ".py",
   "mimetype": "text/x-python",
   "name": "python",
   "nbconvert_exporter": "python",
   "pygments_lexer": "ipython2",
   "version": "2.7.6"
  }
 },
 "nbformat": 4,
 "nbformat_minor": 0
}