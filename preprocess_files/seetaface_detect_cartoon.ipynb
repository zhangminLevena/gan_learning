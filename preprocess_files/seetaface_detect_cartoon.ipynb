{
 "cells": [
  {
   "cell_type": "code",
   "execution_count": 1,
   "metadata": {
    "collapsed": true
   },
   "outputs": [],
   "source": [
    "import os\n",
    "import glob\n",
    "out=file(\"/home/zzq/research/SeetaFaceEngine-master/FaceAlignment/name1\",'w')\n",
    "out2=file(\"/home/zzq/research/SeetaFaceEngine-master/FaceAlignment/name2\",\"w\")\n",
    "dest=\"/home/zzq/research/SeetaFaceEngine-master/FaceAlignment/test_detect/\"\n",
    "for files in glob.glob(\"/home/zzq/research/DiscoGAN-pytorch-master/data/cartoon/testB/*.jpg\"):\n",
    "    p,n=os.path.split(files)\n",
    "    out.write(files+'\\n')\n",
    "    out2.write(dest+n+'\\n')\n",
    "out.close()\n",
    "out2.close()"
   ]
  },
  {
   "cell_type": "code",
   "execution_count": null,
   "metadata": {},
   "outputs": [],
   "source": [
    ""
   ]
  }
 ],
 "metadata": {
  "kernelspec": {
   "display_name": "Python 2",
   "language": "python",
   "name": "python2"
  },
  "language_info": {
   "codemirror_mode": {
    "name": "ipython",
    "version": 2.0
   },
   "file_extension": ".py",
   "mimetype": "text/x-python",
   "name": "python",
   "nbconvert_exporter": "python",
   "pygments_lexer": "ipython2",
   "version": "2.7.6"
  }
 },
 "nbformat": 4,
 "nbformat_minor": 0
}