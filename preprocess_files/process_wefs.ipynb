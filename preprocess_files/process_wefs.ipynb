{
 "cells": [
  {
   "cell_type": "code",
   "execution_count": 1,
   "metadata": {
    "collapsed": true
   },
   "outputs": [],
   "source": [
    "import numpy as np\n",
    "data=np.genfromtxt(\"/home/zzq/PycharmProjects/KEDF/WSEFEP_HQ-082017/WSEFEP_v101_hq/WSEFEP - norms & FACS.csv\",dtype=str,delimiter=',')"
   ]
  },
  {
   "cell_type": "code",
   "execution_count": 2,
   "metadata": {},
   "outputs": [
    {
     "name": "stdout",
     "output_type": "stream",
     "text": [
      "['Displayer ID' 'Picture ID' 'Male/ Female' 'Display' 'Agreement (%)'\n 'Putity   (0-1)' 'Intensity (0-1)' 'N' 'FACS']\n"
     ]
    }
   ],
   "source": [
    "print data[0]"
   ]
  },
  {
   "cell_type": "code",
   "execution_count": 3,
   "metadata": {},
   "outputs": [
    {
     "name": "stdout",
     "output_type": "stream",
     "text": [
      "211\n"
     ]
    }
   ],
   "source": [
    "print len(data)"
   ]
  },
  {
   "cell_type": "code",
   "execution_count": 16,
   "metadata": {},
   "outputs": [],
   "source": [
    "import os\n",
    "import shutil\n",
    "root='/home/zzq/PycharmProjects/KEDF/WSEFEP_HQ-082017/WSEFEP_v101_hq/'\n",
    "for i in range(1,211):\n",
    "    origin_name=root+data[i][1]\n",
    "    re_name=root+data[i][0]+'_'+data[i][3]\n",
    "    shutil.copyfile(origin_name,re_name)"
   ]
  },
  {
   "cell_type": "code",
   "execution_count": 17,
   "metadata": {},
   "outputs": [],
   "source": [
    "root='/home/zzq/PycharmProjects/KEDF/WSEFEP_HQ-082017/WSEFEP_v101_hq/'\n",
    "root2='/home/zzq/PycharmProjects/KEDF/WSEFEP_HQ-082017/rename/'\n",
    "for i in range(1,211):\n",
    "    origin_name=root+data[i][0]+'_'+data[i][3]\n",
    "    re_name=root2+data[i][0]+'_'+data[i][3]\n",
    "    shutil.move(origin_name,re_name)"
   ]
  },
  {
   "cell_type": "code",
   "execution_count": 18,
   "metadata": {},
   "outputs": [],
   "source": [
    "name=[]\n",
    "for i in range(1,211):\n",
    "    name.append(data[i][0])"
   ]
  },
  {
   "cell_type": "code",
   "execution_count": 19,
   "metadata": {},
   "outputs": [],
   "source": [
    "name=set(name)"
   ]
  },
  {
   "cell_type": "code",
   "execution_count": 20,
   "metadata": {},
   "outputs": [],
   "source": [
    "name=list(name)"
   ]
  },
  {
   "cell_type": "code",
   "execution_count": 21,
   "metadata": {},
   "outputs": [
    {
     "name": "stdout",
     "output_type": "stream",
     "text": [
      "30\n"
     ]
    }
   ],
   "source": [
    "print len(name)"
   ]
  },
  {
   "cell_type": "code",
   "execution_count": 22,
   "metadata": {},
   "outputs": [],
   "source": [
    "emotion=['fear','disgust','joy','sadness','surprise','anger']\n",
    "root='/home/zzq/PycharmProjects/KEDF/WSEFEP_HQ-082017/rename/'\n",
    "TARGET_WIDTH=512\n",
    "UNIT_SIZE=256\n",
    "from PIL import Image\n",
    "for i in range(len(name)):\n",
    "    left=Image.open(root+name[i]+'_neutral')\n",
    "    l=left.resize((256,256),Image.ANTIALIAS)\n",
    "    for j in range(6):\n",
    "        right=Image.open(root+name[i]+'_'+emotion[j])\n",
    "        r=right.resize((256,256),Image.ANTIALIAS)\n",
    "        target = Image.new('RGB', (TARGET_WIDTH,UNIT_SIZE)) \n",
    "        target.paste(l, (0, 0, 256, UNIT_SIZE))# 将image复制到target的指定位置中\n",
    "        target.paste(r, (256, 0, 512, UNIT_SIZE))# 将ima\n",
    "        if i <25:\n",
    "            target.save('/home/zzq/PycharmProjects/KEDF/WSEFEP_HQ-082017/WSEFEP/train/'+name[i]+emotion[j]+str(j)+'.jpg')\n",
    "        else:\n",
    "            target.save('/home/zzq/PycharmProjects/KEDF/WSEFEP_HQ-082017/WSEFEP/val/'+name[i]+emotion[j]+str(j)+'.jpg')"
   ]
  },
  {
   "cell_type": "code",
   "execution_count": null,
   "metadata": {},
   "outputs": [],
   "source": [
    ""
   ]
  }
 ],
 "metadata": {
  "kernelspec": {
   "display_name": "Python 2",
   "language": "python",
   "name": "python2"
  },
  "language_info": {
   "codemirror_mode": {
    "name": "ipython",
    "version": 2.0
   },
   "file_extension": ".py",
   "mimetype": "text/x-python",
   "name": "python",
   "nbconvert_exporter": "python",
   "pygments_lexer": "ipython2",
   "version": "2.7.6"
  }
 },
 "nbformat": 4,
 "nbformat_minor": 0
}