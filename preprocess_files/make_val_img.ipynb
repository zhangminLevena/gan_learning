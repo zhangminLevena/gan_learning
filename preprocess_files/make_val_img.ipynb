{
 "cells": [
  {
   "cell_type": "code",
   "execution_count": 1,
   "metadata": {
    "collapsed": true
   },
   "outputs": [],
   "source": [
    "from PIL import Image\n",
    "import os\n",
    "import numpy as np\n",
    "data=np.genfromtxt('/home/zzq/research/windows_file/IIIT-CFW1.0/name',dtype=str,delimiter='\\n')"
   ]
  },
  {
   "cell_type": "code",
   "execution_count": 5,
   "metadata": {},
   "outputs": [],
   "source": [
    "root1='/home/zzq/research/windows_file/IIIT-CFW1.0/cartoonFaces_dest/'\n",
    "root2='/home/zzq/research/windows_file/IIIT-CFW1.0/real_face_dest/'\n",
    "train='/home/zzq/research/pix2pix-tensorflow/face/train/'\n",
    "val='/home/zzq/research/pix2pix-tensorflow/face/val/'\n",
    "size = 256,256\n",
    "import Image\n",
    "UNIT_SIZE = 256 # 单个图像的大小为229*229\n",
    "TARGET_WIDTH = 2 * UNIT_SIZE # 拼接完后的横向长度为6*229\n",
    "for i in range(len(data)):\n",
    "    for j in range(10):\n",
    "        file1=root1+data[i]+'/'+data[i]+str(j+1).zfill(4)+'.jpeg'\n",
    "        if not os.path.isfile(file1):\n",
    "            file1=root1+data[i]+'/'+data[i]+str(j+1).zfill(4)+'.jpg'\n",
    "        im1=Image.open(file1)\n",
    "        im11=im1.resize((256,256), Image.ANTIALIAS)\n",
    "        file2=root2+data[i]+'/'+data[i]+str(j+1).zfill(4)+'.jpg'\n",
    "        im2=Image.open(file2)\n",
    "        im22=im2.resize((256,256), Image.ANTIALIAS)\n",
    "        target = Image.new('RGB', (TARGET_WIDTH,UNIT_SIZE)) \n",
    "        target.paste(im11, (0, 0, 256, UNIT_SIZE))# 将image复制到target的指定位置中\n",
    "        target.paste(im22, (256, 0, 512, UNIT_SIZE))# 将image复制到target的指定位置中\n",
    "        if j<8:\n",
    "            destfile=train+data[i]+str(j+1).zfill(4)+'.jpg'\n",
    "        else:\n",
    "            destfile=val+data[i]+str(j+1).zfill(4)+'.jpg'\n",
    "        target.save(destfile)"
   ]
  },
  {
   "cell_type": "code",
   "execution_count": 1,
   "metadata": {},
   "outputs": [],
   "source": [
    "import os\n",
    "import numpy as np\n",
    "data=np.genfromtxt('/home/zzq/research/windows_file/IIIT-CFW1.0/name',dtype=str,delimiter='\\n')"
   ]
  },
  {
   "cell_type": "code",
   "execution_count": 5,
   "metadata": {},
   "outputs": [],
   "source": [
    "root1='/home/zzq/research/windows_file/IIIT-CFW1.0/cartoonFaces_dest/'\n",
    "dest='/home/zzq/research/windows_file/IIIT-CFW1.0/label_cartoon/'\n",
    "\n",
    "size = 256,256\n",
    "import Image\n",
    "# UNIT_SIZE = 256 # 单个图像的大小为229*229\n",
    "# TARGET_WIDTH = 2 * UNIT_SIZE # 拼接完后的横向长度为6*229\n",
    "for i in range(len(data)):\n",
    "    for j in range(300):\n",
    "        file1=root1+data[i]+'/'+data[i]+str(j+1).zfill(4)+'.jpeg'\n",
    "        if not os.path.isfile(file1):\n",
    "            file1=root1+data[i]+'/'+data[i]+str(j+1).zfill(4)+'.jpg'\n",
    "            if not os.path.isfile(file1):\n",
    "                pass\n",
    "            else:\n",
    "                im1=Image.open(file1)\n",
    "                im11=im1.resize((256,256), Image.ANTIALIAS)\n",
    "                destfile=dest+data[i]+str(j+1).zfill(4)+'.jpg'\n",
    "                im11.save(destfile)\n",
    "        else:\n",
    "            im1=Image.open(file1)\n",
    "            im11=im1.resize((256,256), Image.ANTIALIAS)\n",
    "            destfile=dest+data[i]+str(j+1).zfill(4)+'.jpg'\n",
    "            im11.save(destfile)"
   ]
  },
  {
   "cell_type": "code",
   "execution_count": 6,
   "metadata": {},
   "outputs": [],
   "source": [
    "root='/home/zzq/research/windows_file/IIIT-CFW1.0/label_cartoon/'\n",
    "for i in range(len(data)):\n",
    "    for j in range(10):\n",
    "        destfile=root+data[i]+str(j+1).zfill(4)+'.jpg'\n",
    "        os.remove(destfile)"
   ]
  },
  {
   "cell_type": "code",
   "execution_count": 1,
   "metadata": {},
   "outputs": [],
   "source": [
    "import os\n",
    "import numpy as np\n",
    "data=np.genfromtxt('/home/zzq/research/windows_file/IIIT-CFW1.0/name',dtype=str,delimiter='\\n')\n",
    "dest='/home/zzq/PycharmProjects/cartoon_gan/img/'\n",
    "for i in range(len(data)):\n",
    "    dir_name=dest+data[i]\n",
    "    if not os.path.exists(dir_name):\n",
    "        os.mkdir(dir_name)"
   ]
  },
  {
   "cell_type": "code",
   "execution_count": 2,
   "metadata": {},
   "outputs": [],
   "source": [
    "root1='/home/zzq/research/windows_file/IIIT-CFW1.0/cartoonFaces_dest/'\n",
    "dest='/home/zzq/PycharmProjects/cartoon_gan/img/'\n",
    "\n",
    "size = 256,256\n",
    "import Image\n",
    "# UNIT_SIZE = 256 # 单个图像的大小为229*229\n",
    "# TARGET_WIDTH = 2 * UNIT_SIZE # 拼接完后的横向长度为6*229\n",
    "for i in range(len(data)):\n",
    "    for j in range(300):\n",
    "        file1=root1+data[i]+'/'+data[i]+str(j+1).zfill(4)+'.jpeg'\n",
    "        if not os.path.isfile(file1):\n",
    "            file1=root1+data[i]+'/'+data[i]+str(j+1).zfill(4)+'.jpg'\n",
    "            if not os.path.isfile(file1):\n",
    "                pass\n",
    "            else:\n",
    "                im1=Image.open(file1)\n",
    "                im11=im1.resize((256,256), Image.ANTIALIAS)\n",
    "                destfile=dest+data[i]+'/'+data[i]+str(j+1).zfill(4)+'.jpg'\n",
    "                im11.save(destfile)\n",
    "        else:\n",
    "            im1=Image.open(file1)\n",
    "            im11=im1.resize((256,256), Image.ANTIALIAS)\n",
    "            destfile=dest+data[i]+'/'+data[i]+str(j+1).zfill(4)+'.jpg'\n",
    "            im11.save(destfile)"
   ]
  },
  {
   "cell_type": "code",
   "execution_count": 3,
   "metadata": {},
   "outputs": [],
   "source": [
    "dest='/home/zzq/PycharmProjects/cartoon_gan/img/'\n",
    "for i in range(len(data)):\n",
    "    for j in range(10):\n",
    "        destfile=dest+data[i]+'/'+data[i]+str(j+1).zfill(4)+'.jpg'\n",
    "        os.remove(destfile)"
   ]
  },
  {
   "cell_type": "code",
   "execution_count": 4,
   "metadata": {},
   "outputs": [
    {
     "name": "stdout",
     "output_type": "stream",
     "text": [
      "<type 'set'>\n"
     ]
    }
   ],
   "source": [
    "classes={'husky','chihuahua'}\n",
    "print type(classes)"
   ]
  },
  {
   "cell_type": "code",
   "execution_count": 5,
   "metadata": {},
   "outputs": [
    {
     "name": "stdout",
     "output_type": "stream",
     "text": [
      "<type 'numpy.ndarray'>\n"
     ]
    }
   ],
   "source": [
    "print type(data)"
   ]
  },
  {
   "cell_type": "code",
   "execution_count": 6,
   "metadata": {},
   "outputs": [],
   "source": [
    "cls=set(data)"
   ]
  },
  {
   "cell_type": "code",
   "execution_count": 7,
   "metadata": {},
   "outputs": [
    {
     "name": "stdout",
     "output_type": "stream",
     "text": [
      "<type 'set'>\n"
     ]
    }
   ],
   "source": [
    "print type(cls)"
   ]
  },
  {
   "cell_type": "code",
   "execution_count": 8,
   "metadata": {},
   "outputs": [
    {
     "name": "stdout",
     "output_type": "stream",
     "text": [
      "0\n1\n2\n3\n4\n5\n6\n7\n8\n9\n10\n11\n12\n13\n14\n15\n16\n17\n18\n19\n20\n21\n22\n23\n24\n25\n26\n27\n28\n29\n30\n31\n32\n33\n34\n35\n36\n37\n38\n39\n40\n41\n42\n43\n44\n45\n46\n47\n48\n49\n50\n51\n52\n53\n54\n55\n56\n57\n58\n59\n60\n61\n62\n63\n64\n65\n66\n67\n68\n69\n70\n71\n72\n73\n74\n75\n76\n77\n78\n79\n80\n81\n82\n83\n84\n85\n86\n87\n88\n89\n90\n91\n92\n93\n94\n95\n96\n97\n98\n99\n"
     ]
    }
   ],
   "source": [
    "for index,name in enumerate(cls):\n",
    "    print index"
   ]
  },
  {
   "cell_type": "code",
   "execution_count": null,
   "metadata": {},
   "outputs": [],
   "source": [
    ""
   ]
  }
 ],
 "metadata": {
  "kernelspec": {
   "display_name": "Python 2",
   "language": "python",
   "name": "python2"
  },
  "language_info": {
   "codemirror_mode": {
    "name": "ipython",
    "version": 2.0
   },
   "file_extension": ".py",
   "mimetype": "text/x-python",
   "name": "python",
   "nbconvert_exporter": "python",
   "pygments_lexer": "ipython2",
   "version": "2.7.6"
  }
 },
 "nbformat": 4,
 "nbformat_minor": 0
}