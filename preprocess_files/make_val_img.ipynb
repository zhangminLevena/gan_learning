{
 "cells": [
  {
   "cell_type": "code",
   "execution_count": 1,
   "metadata": {
    "collapsed": true
   },
   "outputs": [],
   "source": [
    "from PIL import Image\n",
    "import os\n",
    "import numpy as np\n",
    "data=np.genfromtxt('/home/zzq/research/windows_file/IIIT-CFW1.0/name',dtype=str,delimiter='\\n')"
   ]
  },
  {
   "cell_type": "code",
   "execution_count": 5,
   "metadata": {},
   "outputs": [],
   "source": [
    "root1='/home/zzq/research/windows_file/IIIT-CFW1.0/cartoonFaces_dest/'\n",
    "root2='/home/zzq/research/windows_file/IIIT-CFW1.0/real_face_dest/'\n",
    "train='/home/zzq/research/pix2pix-tensorflow/face/train/'\n",
    "val='/home/zzq/research/pix2pix-tensorflow/face/val/'\n",
    "size = 256,256\n",
    "import Image\n",
    "UNIT_SIZE = 256 # 单个图像的大小为229*229\n",
    "TARGET_WIDTH = 2 * UNIT_SIZE # 拼接完后的横向长度为6*229\n",
    "for i in range(len(data)):\n",
    "    for j in range(10):\n",
    "        file1=root1+data[i]+'/'+data[i]+str(j+1).zfill(4)+'.jpeg'\n",
    "        if not os.path.isfile(file1):\n",
    "            file1=root1+data[i]+'/'+data[i]+str(j+1).zfill(4)+'.jpg'\n",
    "        im1=Image.open(file1)\n",
    "        im11=im1.resize((256,256), Image.ANTIALIAS)\n",
    "        file2=root2+data[i]+'/'+data[i]+str(j+1).zfill(4)+'.jpg'\n",
    "        im2=Image.open(file2)\n",
    "        im22=im2.resize((256,256), Image.ANTIALIAS)\n",
    "        target = Image.new('RGB', (TARGET_WIDTH,UNIT_SIZE)) \n",
    "        target.paste(im11, (0, 0, 256, UNIT_SIZE))# 将image复制到target的指定位置中\n",
    "        target.paste(im22, (256, 0, 512, UNIT_SIZE))# 将image复制到target的指定位置中\n",
    "        if j<8:\n",
    "            destfile=train+data[i]+str(j+1).zfill(4)+'.jpg'\n",
    "        else:\n",
    "            destfile=val+data[i]+str(j+1).zfill(4)+'.jpg'\n",
    "        target.save(destfile)"
   ]
  },
  {
   "cell_type": "code",
   "execution_count": 1,
   "metadata": {},
   "outputs": [],
   "source": [
    "import os\n",
    "import numpy as np\n",
    "data=np.genfromtxt('/home/zzq/research/windows_file/IIIT-CFW1.0/name',dtype=str,delimiter='\\n')"
   ]
  },
  {
   "cell_type": "code",
   "execution_count": 5,
   "metadata": {},
   "outputs": [],
   "source": [
    "root1='/home/zzq/research/windows_file/IIIT-CFW1.0/cartoonFaces_dest/'\n",
    "dest='/home/zzq/research/windows_file/IIIT-CFW1.0/label_cartoon/'\n",
    "\n",
    "size = 256,256\n",
    "import Image\n",
    "# UNIT_SIZE = 256 # 单个图像的大小为229*229\n",
    "# TARGET_WIDTH = 2 * UNIT_SIZE # 拼接完后的横向长度为6*229\n",
    "for i in range(len(data)):\n",
    "    for j in range(300):\n",
    "        file1=root1+data[i]+'/'+data[i]+str(j+1).zfill(4)+'.jpeg'\n",
    "        if not os.path.isfile(file1):\n",
    "            file1=root1+data[i]+'/'+data[i]+str(j+1).zfill(4)+'.jpg'\n",
    "            if not os.path.isfile(file1):\n",
    "                pass\n",
    "            else:\n",
    "                im1=Image.open(file1)\n",
    "                im11=im1.resize((256,256), Image.ANTIALIAS)\n",
    "                destfile=dest+data[i]+str(j+1).zfill(4)+'.jpg'\n",
    "                im11.save(destfile)\n",
    "        else:\n",
    "            im1=Image.open(file1)\n",
    "            im11=im1.resize((256,256), Image.ANTIALIAS)\n",
    "            destfile=dest+data[i]+str(j+1).zfill(4)+'.jpg'\n",
    "            im11.save(destfile)"
   ]
  },
  {
   "cell_type": "code",
   "execution_count": 6,
   "metadata": {},
   "outputs": [],
   "source": [
    "root='/home/zzq/research/windows_file/IIIT-CFW1.0/label_cartoon/'\n",
    "for i in range(len(data)):\n",
    "    for j in range(10):\n",
    "        destfile=root+data[i]+str(j+1).zfill(4)+'.jpg'\n",
    "        os.remove(destfile)"
   ]
  },
  {
   "cell_type": "code",
   "execution_count": 1,
   "metadata": {},
   "outputs": [],
   "source": [
    "import os\n",
    "import numpy as np\n",
    "data=np.genfromtxt('/home/zzq/research/windows_file/IIIT-CFW1.0/name',dtype=str,delimiter='\\n')\n",
    "dest='/home/zzq/PycharmProjects/cartoon_gan/img/'\n",
    "for i in range(len(data)):\n",
    "    dir_name=dest+data[i]\n",
    "    if not os.path.exists(dir_name):\n",
    "        os.mkdir(dir_name)"
   ]
  },
  {
   "cell_type": "code",
   "execution_count": 2,
   "metadata": {},
   "outputs": [],
   "source": [
    "root1='/home/zzq/research/windows_file/IIIT-CFW1.0/cartoonFaces_dest/'\n",
    "dest='/home/zzq/PycharmProjects/cartoon_gan/img/'\n",
    "\n",
    "size = 256,256\n",
    "import Image\n",
    "# UNIT_SIZE = 256 # 单个图像的大小为229*229\n",
    "# TARGET_WIDTH = 2 * UNIT_SIZE # 拼接完后的横向长度为6*229\n",
    "for i in range(len(data)):\n",
    "    for j in range(300):\n",
    "        file1=root1+data[i]+'/'+data[i]+str(j+1).zfill(4)+'.jpeg'\n",
    "        if not os.path.isfile(file1):\n",
    "            file1=root1+data[i]+'/'+data[i]+str(j+1).zfill(4)+'.jpg'\n",
    "            if not os.path.isfile(file1):\n",
    "                pass\n",
    "            else:\n",
    "                im1=Image.open(file1)\n",
    "                im11=im1.resize((256,256), Image.ANTIALIAS)\n",
    "                destfile=dest+data[i]+'/'+data[i]+str(j+1).zfill(4)+'.jpg'\n",
    "                im11.save(destfile)\n",
    "        else:\n",
    "            im1=Image.open(file1)\n",
    "            im11=im1.resize((256,256), Image.ANTIALIAS)\n",
    "            destfile=dest+data[i]+'/'+data[i]+str(j+1).zfill(4)+'.jpg'\n",
    "            im11.save(destfile)"
   ]
  },
  {
   "cell_type": "code",
   "execution_count": 3,
   "metadata": {},
   "outputs": [],
   "source": [
    "dest='/home/zzq/PycharmProjects/cartoon_gan/img/'\n",
    "for i in range(len(data)):\n",
    "    for j in range(10):\n",
    "        destfile=dest+data[i]+'/'+data[i]+str(j+1).zfill(4)+'.jpg'\n",
    "        os.remove(destfile)"
   ]
  },
  {
   "cell_type": "code",
   "execution_count": 4,
   "metadata": {},
   "outputs": [
    {
     "name": "stdout",
     "output_type": "stream",
     "text": [
      "<type 'set'>\n"
     ]
    }
   ],
   "source": [
    "classes={'husky','chihuahua'}\n",
    "print type(classes)"
   ]
  },
  {
   "cell_type": "code",
   "execution_count": 5,
   "metadata": {},
   "outputs": [
    {
     "name": "stdout",
     "output_type": "stream",
     "text": [
      "<type 'numpy.ndarray'>\n"
     ]
    }
   ],
   "source": [
    "print type(data)"
   ]
  },
  {
   "cell_type": "code",
   "execution_count": 6,
   "metadata": {},
   "outputs": [],
   "source": [
    "cls=set(data)"
   ]
  },
  {
   "cell_type": "code",
   "execution_count": 7,
   "metadata": {},
   "outputs": [
    {
     "name": "stdout",
     "output_type": "stream",
     "text": [
      "<type 'set'>\n"
     ]
    }
   ],
   "source": [
    "print type(cls)"
   ]
  },
  {
   "cell_type": "code",
   "execution_count": 8,
   "metadata": {},
   "outputs": [
    {
     "name": "stdout",
     "output_type": "stream",
     "text": [
      "0\n1\n2\n3\n4\n5\n6\n7\n8\n9\n10\n11\n12\n13\n14\n15\n16\n17\n18\n19\n20\n21\n22\n23\n24\n25\n26\n27\n28\n29\n30\n31\n32\n33\n34\n35\n36\n37\n38\n39\n40\n41\n42\n43\n44\n45\n46\n47\n48\n49\n50\n51\n52\n53\n54\n55\n56\n57\n58\n59\n60\n61\n62\n63\n64\n65\n66\n67\n68\n69\n70\n71\n72\n73\n74\n75\n76\n77\n78\n79\n80\n81\n82\n83\n84\n85\n86\n87\n88\n89\n90\n91\n92\n93\n94\n95\n96\n97\n98\n99\n"
     ]
    }
   ],
   "source": [
    "for index,name in enumerate(cls):\n",
    "    print index"
   ]
  },
  {
   "cell_type": "code",
   "execution_count": 1,
   "metadata": {},
   "outputs": [
    {
     "name": "stdout",
     "output_type": "stream",
     "text": [
      "[[ 1.  0.  0.  0.]\n [ 0.  1.  0.  0.]\n [ 0.  0.  1.  0.]\n [ 0.  0.  0.  1.]]\n"
     ]
    }
   ],
   "source": [
    "import numpy as np\n",
    "print np.eye(4)"
   ]
  },
  {
   "cell_type": "code",
   "execution_count": 7,
   "metadata": {},
   "outputs": [
    {
     "name": "stdout",
     "output_type": "stream",
     "text": [
      "DIFL\nHAHR\nNEHL\nSUFL\nANS\nSAS\nSAFR\nHAFL\nSUFR\nAFFL\nNES\nSUHR\nAFHR\nDIS\nSUHL\nHAFR\nDIFR\nAFHL\nAFS\nHAS\nAFFR\nSAHL\nHAHL\nSAHR\nANFR\nANHR\nANFL\nNEFR\nSUS\nDIHL\nSAFL\nDIHR\nNEHR\nANHL\nNEFL\n"
     ]
    }
   ],
   "source": [
    "import os\n",
    "import glob\n",
    "from PIL import Image\n",
    "name_list=[]\n",
    "for files in glob.glob('/home/zzq/research/windows_file/KDEF/AF01/*.JPG'):\n",
    "    filepath, filename = os.path.split(files)\n",
    "    # print filename\n",
    "    fin=filename.split(\".\")\n",
    "    name=fin[0]\n",
    "    # print name\n",
    "    str_=name[4:]\n",
    "    print str_\n",
    "    name_list.append(str_)"
   ]
  },
  {
   "cell_type": "code",
   "execution_count": 8,
   "metadata": {},
   "outputs": [],
   "source": [
    "out=file(\"/home/zzq/research/windows_file/KDEF_cls_label\",\"w\")\n",
    "for i in range(len(name_list)):\n",
    "    out.write(name_list[i]+'\\n')\n",
    "out.close()"
   ]
  },
  {
   "cell_type": "code",
   "execution_count": 17,
   "metadata": {},
   "outputs": [],
   "source": [
    "root='/home/zzq/research/windows_file/KDEF'\n",
    "dest='/home/zzq/research/windows_file/KDEF_resize'\n",
    "size=256,256\n",
    "for i in range(35):\n",
    "    dir_name='AF'+str(i+1).zfill(2)\n",
    "    os.mkdir(dest+'/'+dir_name)\n",
    "    name_jpg=root+'/'+dir_name+'/*.JPG'\n",
    "    for files in glob.glob(name_jpg):\n",
    "        img=Image.open(files)\n",
    "        filepath, filename = os.path.split(files)\n",
    "        img=img.resize((256,256),Image.ANTIALIAS)\n",
    "        filename=filename[4:]\n",
    "        img.save(dest+'/'+dir_name+'/'+filename)"
   ]
  },
  {
   "cell_type": "code",
   "execution_count": 18,
   "metadata": {},
   "outputs": [],
   "source": [
    "def resize_my(name):\n",
    "    root='/home/zzq/research/windows_file/KDEF'\n",
    "    dest='/home/zzq/research/windows_file/KDEF_resize'\n",
    "    # size=256,256\n",
    "    for i in range(35):\n",
    "        dir_name=name+str(i+1).zfill(2)\n",
    "        os.mkdir(dest+'/'+dir_name)\n",
    "        name_jpg=root+'/'+dir_name+'/*.JPG'\n",
    "        for files in glob.glob(name_jpg):\n",
    "            img=Image.open(files)\n",
    "            filepath, filename = os.path.split(files)\n",
    "            img=img.resize((256,256),Image.ANTIALIAS)\n",
    "            filename=filename[4:]\n",
    "            img.save(dest+'/'+dir_name+'/'+filename)"
   ]
  },
  {
   "cell_type": "code",
   "execution_count": 19,
   "metadata": {},
   "outputs": [],
   "source": [
    "resize_my('AM')\n",
    "resize_my('BF')\n",
    "resize_my('BM')"
   ]
  },
  {
   "cell_type": "code",
   "execution_count": 13,
   "metadata": {},
   "outputs": [
    {
     "name": "stdout",
     "output_type": "stream",
     "text": [
      "['DIFL', 'HAHR', 'NEHL', 'SUFL', 'ANS', 'SAS', 'SAFR', 'HAFL', 'SUFR', 'AFFL', 'NES', 'SUHR', 'AFHR', 'DIS', 'SUHL', 'HAFR', 'DIFR', 'AFHL', 'AFS', 'HAS', 'AFFR', 'SAHL', 'HAHL', 'SAHR', 'ANFR', 'ANHR', 'ANFL', 'NEFR', 'SUS', 'DIHL', 'SAFL', 'DIHR', 'NEHR', 'ANHL', 'NEFL']\n"
     ]
    }
   ],
   "source": [
    "print name_list"
   ]
  },
  {
   "cell_type": "code",
   "execution_count": 14,
   "metadata": {},
   "outputs": [
    {
     "name": "stdout",
     "output_type": "stream",
     "text": [
      "['DIFL', 'HAHR', 'NEHL', 'SUFL', 'ANS', 'SAS', 'SAFR', 'HAFL', 'SUFR', 'AFFL', 'NES', 'SUHR', 'AFHR', 'DIS', 'SUHL', 'HAFR', 'DIFR', 'AFHL', 'AFS', 'HAS', 'AFFR', 'SAHL', 'HAHL', 'SAHR', 'ANFR', 'ANHR', 'ANFL', 'NEFR', 'SUS', 'DIHL', 'SAFL', 'DIHR', 'NEHR', 'ANHL', 'NEFL']\n"
     ]
    }
   ],
   "source": [
    "print name_list"
   ]
  },
  {
   "cell_type": "code",
   "execution_count": 15,
   "metadata": {},
   "outputs": [
    {
     "name": "stdout",
     "output_type": "stream",
     "text": [
      "[13, 11, 19, 9, 7, 35, 8]\n"
     ]
    }
   ],
   "source": [
    "import random\n",
    "rand_int=random.randint(1,35)\n",
    "rand_list=random.sample(range(1,36),7)\n",
    "print rand_list"
   ]
  },
  {
   "cell_type": "code",
   "execution_count": 16,
   "metadata": {},
   "outputs": [
    {
     "name": "stdout",
     "output_type": "stream",
     "text": [
      "[1, 2, 3, 4, 5, 6, 7, 8, 9, 10, 11, 12, 13, 14, 15, 16, 17, 18, 19, 20, 21, 22, 23, 24, 25, 26, 27, 28, 29, 30, 31, 32, 33, 34, 35]\n"
     ]
    }
   ],
   "source": [
    "print range(1,36)"
   ]
  },
  {
   "cell_type": "code",
   "execution_count": 31,
   "metadata": {},
   "outputs": [],
   "source": [
    "def merge(cls_name):\n",
    "    root='/home/zzq/research/windows_file/KDEF_resize/'\n",
    "    dest='/home/zzq/research/windows_file/KDEF_merge/'\n",
    "    for i in range(17):\n",
    "        root1=root+cls_name+str(2*i+1).zfill(2)+'/'\n",
    "        root2=root+cls_name+str(2*i+2).zfill(2)+'/'\n",
    "        # for j in range(len(name_list)):\n",
    "        x=set(range(1,36))\n",
    "        y=set(random.sample(range(1,36),7))\n",
    "        train_list=list(x-y)\n",
    "        val_list=list(y)\n",
    "        # print val_list\n",
    "        train_dest=dest+'train/'\n",
    "        for j in range(len(train_list)):\n",
    "            img1=Image.open(root1+name_list[train_list[j]-1]+'.JPG')\n",
    "            img2=Image.open(root2+name_list[train_list[j]-1]+'.JPG')\n",
    "            target = Image.new('RGB', (512,256)) \n",
    "            target.paste(img1, (0, 0, 256, 256))# 将image复制到target的指定位置中\n",
    "            target.paste(img2, (256, 0, 512, 256))# 将image复制到target的指定位置中\n",
    "            target.save(train_dest+cls_name+str(2*i+1).zfill(2)+str(2*i+2).zfill(2)+name_list[train_list[j]-1]+'.jpg')\n",
    "        val_dest=dest+'val/'\n",
    "        for j in range(len(val_list)):\n",
    "            img1=Image.open(root1+name_list[val_list[j]-1]+'.JPG')\n",
    "            img2=Image.open(root2+name_list[val_list[j]-1]+'.JPG')\n",
    "            target = Image.new('RGB', (512,256)) \n",
    "            target.paste(img1, (0, 0, 256, 256))# 将image复制到target的指定位置中\n",
    "            target.paste(img2, (256, 0, 512, 256))# 将image复制到target的指定位置中\n",
    "            target.save(val_dest+cls_name+str(2*i+1).zfill(2)+str(2*i+2).zfill(2)+name_list[val_list[j]-1]+'.jpg')"
   ]
  },
  {
   "cell_type": "code",
   "execution_count": 34,
   "metadata": {},
   "outputs": [],
   "source": [
    "merge('AF')\n",
    "merge('AM')\n",
    "merge('BF')\n",
    "merge('BM')"
   ]
  },
  {
   "cell_type": "code",
   "execution_count": null,
   "metadata": {},
   "outputs": [],
   "source": [
    ""
   ]
  }
 ],
 "metadata": {
  "kernelspec": {
   "display_name": "Python 2",
   "language": "python",
   "name": "python2"
  },
  "language_info": {
   "codemirror_mode": {
    "name": "ipython",
    "version": 2.0
   },
   "file_extension": ".py",
   "mimetype": "text/x-python",
   "name": "python",
   "nbconvert_exporter": "python",
   "pygments_lexer": "ipython2",
   "version": "2.7.6"
  }
 },
 "nbformat": 4,
 "nbformat_minor": 0
}