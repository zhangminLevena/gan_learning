{
 "cells": [
  {
   "cell_type": "code",
   "execution_count": 1,
   "metadata": {
    "collapsed": false
   },
   "outputs": [
    {
     "name": "stdout",
     "output_type": "stream",
     "text": [
      "['HillaryClinton' 'NicoleKidman' 'Beyonce' 'NelsonMandela'\n 'ArnoldSchwazegger' 'RowanAtkinson' 'Pele' 'CheGuevara' 'LanceArmstrong'\n 'MichaelJordan' 'AbrahamLincoln' 'LucilleBall' 'PrincessDiana'\n 'BillClinton' 'MichaelPhelps' 'JawaharlalNehru' 'SteveJobs'\n 'LataMangeshkar' 'PopeJohnPaulII' 'Amitabhbachan' 'PabloPicasso'\n 'KatrinaKaif' 'DalaiLama' 'SylvesterStallone' 'AdolfHitler' 'JohnFKennedy'\n 'WinstonChurchill' 'DanielRadicliffe' 'Shakira' 'RobertDowneyJr'\n 'JackieChan' 'MahatmaGandhi' 'CurtisJamesJacksonIII' 'JohnLennon'\n 'AlbertEinstein' 'PeterSellers' 'ScarlettJohansson' 'TaylorSwift'\n 'MartinLutherKing' 'IndiraGandhi' 'OprahWinfrey' 'MorganFreeman'\n 'KimJongUn' 'BritneySpears' 'RafaelNadal' 'TomCruise' 'MarilynMonroe'\n 'NarendraModi' 'Rajinikanth' 'QueenElizabethII' 'JohnnyDepp'\n 'RobynRihannaFenty' 'LaluPrasadYadav' 'AngelaMerkel' 'MattDamon'\n 'MichaelJackson' 'LionelMessi' 'LouisArmstrong' 'AngelinaJolie'\n 'DavidBeckham' 'LeonardoDiCaprio' 'ManmohanSingh' 'BradPitt' 'MuhammadAli'\n 'QuentinTarantino' 'MeganFox' 'StephenHawking' 'RussellCrowe' 'MalcolmX'\n 'BillGates' 'MotherTeresa' 'GeorgeClooney' 'LucianoPavarotti' 'AamirKhan'\n 'DanielCraig' 'CharlieChaplin' 'SachinTendulkar' 'DwayneJohnson'\n 'HughJackman' 'BruceWillis' 'BarackObama' 'JustinBieber' 'VladimirPutin'\n 'MargaretThatcher' 'KateMiddleton' 'UsainBolt' 'AishwaryaRai'\n 'PrinceCharles' 'MarkZuckerberg' 'PaulMcCartney' 'TigerWoods'\n 'ElvisPresley' 'PeterJackson' 'JKRowling' 'BruceLee' 'JayZ' 'SelenaGomez'\n 'JimCarrey' 'EmmaWatson' 'BhagatSingh']\n"
     ]
    }
   ],
   "source": [
    "from PIL import Image\n",
    "import os\n",
    "import numpy as np\n",
    "data=np.genfromtxt('/home/zzq/research/windows_file/IIIT-CFW1.0/name',dtype=str,delimiter='\\n')\n",
    "print data"
   ]
  },
  {
   "cell_type": "code",
   "execution_count": 2,
   "metadata": {},
   "outputs": [],
   "source": [
    "root='/home/zzq/research/windows_file/IIIT-CFW1.0/select_pair/'\n",
    "for i in range(len(data)):\n",
    "    dir_name=root+data[i]\n",
    "    if not os.path.exists(dir_name):\n",
    "        os.mkdir(dir_name)"
   ]
  },
  {
   "cell_type": "code",
   "execution_count": 25,
   "metadata": {},
   "outputs": [
    {
     "name": "stdout",
     "output_type": "stream",
     "text": [
      "(80, 97)\n(80, 97)\n"
     ]
    }
   ],
   "source": [
    "img=Image.open('/home/zzq/research/windows_file/IIIT-CFW1.0/cartoonFaces_dest/AamirKhan/AamirKhan0001.jpeg')\n",
    "img.show()\n",
    "print img.size\n",
    "img.thumbnail((256,256), Image.ANTIALIAS)\n",
    "img.show()\n",
    "print img.size"
   ]
  },
  {
   "cell_type": "code",
   "execution_count": 31,
   "metadata": {},
   "outputs": [
    {
     "name": "stdout",
     "output_type": "stream",
     "text": [
      "/home/zzq/research/windows_file/IIIT-CFW1.0/cartoonFaces_dest/JayZ/JayZ0001.jpeg\n/home/zzq/research/windows_file/IIIT-CFW1.0/cartoonFaces_dest/JayZ/JayZ0002.jpeg\n/home/zzq/research/windows_file/IIIT-CFW1.0/cartoonFaces_dest/JayZ/JayZ0003.jpeg\n/home/zzq/research/windows_file/IIIT-CFW1.0/cartoonFaces_dest/JayZ/JayZ0004.jpeg\n/home/zzq/research/windows_file/IIIT-CFW1.0/cartoonFaces_dest/JayZ/JayZ0005.jpeg\n/home/zzq/research/windows_file/IIIT-CFW1.0/cartoonFaces_dest/JayZ/JayZ0006.jpeg\n/home/zzq/research/windows_file/IIIT-CFW1.0/cartoonFaces_dest/JayZ/JayZ0007.jpeg\n/home/zzq/research/windows_file/IIIT-CFW1.0/cartoonFaces_dest/JayZ/JayZ0008.jpeg\n/home/zzq/research/windows_file/IIIT-CFW1.0/cartoonFaces_dest/JayZ/JayZ0009.jpeg\n/home/zzq/research/windows_file/IIIT-CFW1.0/cartoonFaces_dest/JayZ/JayZ0010.jpeg\n/home/zzq/research/windows_file/IIIT-CFW1.0/cartoonFaces_dest/JayZ/JayZ0011.jpeg\n/home/zzq/research/windows_file/IIIT-CFW1.0/cartoonFaces_dest/JayZ/JayZ0012.jpeg\n/home/zzq/research/windows_file/IIIT-CFW1.0/cartoonFaces_dest/JayZ/JayZ0013.jpeg\n/home/zzq/research/windows_file/IIIT-CFW1.0/cartoonFaces_dest/JayZ/JayZ0014.jpeg\n/home/zzq/research/windows_file/IIIT-CFW1.0/cartoonFaces_dest/JayZ/JayZ0015.jpeg\n/home/zzq/research/windows_file/IIIT-CFW1.0/cartoonFaces_dest/JayZ/JayZ0016.jpeg\n/home/zzq/research/windows_file/IIIT-CFW1.0/cartoonFaces_dest/JayZ/JayZ0017.jpeg\n/home/zzq/research/windows_file/IIIT-CFW1.0/cartoonFaces_dest/JayZ/JayZ0018.jpeg\n/home/zzq/research/windows_file/IIIT-CFW1.0/cartoonFaces_dest/JayZ/JayZ0019.jpeg\n/home/zzq/research/windows_file/IIIT-CFW1.0/cartoonFaces_dest/JayZ/JayZ0020.jpeg\n/home/zzq/research/windows_file/IIIT-CFW1.0/cartoonFaces_dest/JayZ/JayZ0021.jpeg\n/home/zzq/research/windows_file/IIIT-CFW1.0/cartoonFaces_dest/JayZ/JayZ0022.jpeg\n/home/zzq/research/windows_file/IIIT-CFW1.0/cartoonFaces_dest/JayZ/JayZ0023.jpeg\n/home/zzq/research/windows_file/IIIT-CFW1.0/cartoonFaces_dest/JayZ/JayZ0024.jpeg\n/home/zzq/research/windows_file/IIIT-CFW1.0/cartoonFaces_dest/JayZ/JayZ0025.jpeg\n/home/zzq/research/windows_file/IIIT-CFW1.0/cartoonFaces_dest/JayZ/JayZ0026.jpeg\n/home/zzq/research/windows_file/IIIT-CFW1.0/cartoonFaces_dest/JayZ/JayZ0027.jpeg\n/home/zzq/research/windows_file/IIIT-CFW1.0/cartoonFaces_dest/JayZ/JayZ0028.jpeg\n/home/zzq/research/windows_file/IIIT-CFW1.0/cartoonFaces_dest/JayZ/JayZ0029.jpeg\n/home/zzq/research/windows_file/IIIT-CFW1.0/cartoonFaces_dest/JayZ/JayZ0030.jpeg\n/home/zzq/research/windows_file/IIIT-CFW1.0/cartoonFaces_dest/JayZ/JayZ0031.jpeg\n/home/zzq/research/windows_file/IIIT-CFW1.0/cartoonFaces_dest/JayZ/JayZ0032.jpeg\n/home/zzq/research/windows_file/IIIT-CFW1.0/cartoonFaces_dest/JayZ/JayZ0033.jpeg\n/home/zzq/research/windows_file/IIIT-CFW1.0/cartoonFaces_dest/JayZ/JayZ0034.jpeg\n/home/zzq/research/windows_file/IIIT-CFW1.0/cartoonFaces_dest/JayZ/JayZ0035.jpeg\n/home/zzq/research/windows_file/IIIT-CFW1.0/cartoonFaces_dest/JayZ/JayZ0036.jpeg\n"
     ]
    }
   ],
   "source": [
    "cnt=1\n",
    "import glob\n",
    "root='/home/zzq/research/windows_file/IIIT-CFW1.0/cartoonFaces_dest/JayZ/'\n",
    "for files in glob.glob('/home/zzq/research/windows_file/IIIT-CFW1.0/cartoonFaces_dest/JayZ/*.jpeg'):\n",
    "    filepath, filename = os.path.split(files)\n",
    "    l=filename.split('.')\n",
    "    my_name=filter(str.isalpha,l[0])\n",
    "    rename=root+my_name+str(cnt).zfill(4)+'.jpeg'\n",
    "    sou=root+filename\n",
    "    # print rename\n",
    "    os.rename(sou,rename)   \n",
    "    cnt+=1"
   ]
  },
  {
   "cell_type": "code",
   "execution_count": 32,
   "metadata": {},
   "outputs": [],
   "source": [
    "cnt=1\n",
    "import glob\n",
    "root='/home/zzq/research/windows_file/IIIT-CFW1.0/real_face_dest/JayZ/'\n",
    "for files in glob.glob('/home/zzq/research/windows_file/IIIT-CFW1.0/real_face_dest/JayZ/*.jpg'):\n",
    "    filepath, filename = os.path.split(files)\n",
    "    l=filename.split('.')\n",
    "    my_name=filter(str.isalpha,l[0])\n",
    "    rename=root+my_name+str(cnt).zfill(4)+'.jpg'\n",
    "    sou=root+filename\n",
    "    # print rename\n",
    "    os.rename(sou,rename)   \n",
    "    cnt+=1"
   ]
  },
  {
   "cell_type": "code",
   "execution_count": 33,
   "metadata": {},
   "outputs": [],
   "source": [
    "root1='/home/zzq/research/windows_file/IIIT-CFW1.0/cartoonFaces_dest/'\n",
    "root2='/home/zzq/research/windows_file/IIIT-CFW1.0/real_face_dest/'\n",
    "dest='/home/zzq/research/windows_file/IIIT-CFW1.0/merge/'\n",
    "size = 256,256\n",
    "import Image\n",
    "UNIT_SIZE = 256 # 单个图像的大小为229*229\n",
    "TARGET_WIDTH = 2 * UNIT_SIZE # 拼接完后的横向长度为6*229\n",
    "for i in range(len(data)):\n",
    "    for j in range(10):\n",
    "        file1=root1+data[i]+'/'+data[i]+str(j+1).zfill(4)+'.jpeg'\n",
    "        if not os.path.isfile(file1):\n",
    "            file1=root1+data[i]+'/'+data[i]+str(j+1).zfill(4)+'.jpg'\n",
    "        im1=Image.open(file1)\n",
    "        im11=im1.resize((256,256), Image.ANTIALIAS)\n",
    "        file2=root2+data[i]+'/'+data[i]+str(j+1).zfill(4)+'.jpg'\n",
    "        im2=Image.open(file2)\n",
    "        im22=im2.resize((256,256), Image.ANTIALIAS)\n",
    "        # im2.show()\n",
    "        # print im2.size\n",
    "        target = Image.new('RGB', (TARGET_WIDTH,UNIT_SIZE)) \n",
    "        target.paste(im11, (0, 0, 256, UNIT_SIZE))# 将image复制到target的指定位置中\n",
    "        target.paste(im22, (256, 0, 512, UNIT_SIZE))# 将image复制到target的指定位置中\n",
    "        destfile=dest+data[i]+'/'+data[i]+str(j+1).zfill(4)+'.jpg'\n",
    "        target.save(destfile)"
   ]
  },
  {
   "cell_type": "code",
   "execution_count": 34,
   "metadata": {},
   "outputs": [],
   "source": [
    "root1='/home/zzq/research/windows_file/IIIT-CFW1.0/cartoonFaces_dest/'\n",
    "root2='/home/zzq/research/windows_file/IIIT-CFW1.0/real_face_dest/'\n",
    "dest='/home/zzq/research/windows_file/IIIT-CFW1.0/train/'\n",
    "size = 256,256\n",
    "import Image\n",
    "UNIT_SIZE = 256 # 单个图像的大小为229*229\n",
    "TARGET_WIDTH = 2 * UNIT_SIZE # 拼接完后的横向长度为6*229\n",
    "for i in range(len(data)):\n",
    "    for j in range(10):\n",
    "        file1=root1+data[i]+'/'+data[i]+str(j+1).zfill(4)+'.jpeg'\n",
    "        if not os.path.isfile(file1):\n",
    "            file1=root1+data[i]+'/'+data[i]+str(j+1).zfill(4)+'.jpg'\n",
    "        im1=Image.open(file1)\n",
    "        im11=im1.resize((256,256), Image.ANTIALIAS)\n",
    "        file2=root2+data[i]+'/'+data[i]+str(j+1).zfill(4)+'.jpg'\n",
    "        im2=Image.open(file2)\n",
    "        im22=im2.resize((256,256), Image.ANTIALIAS)\n",
    "        # im2.show()\n",
    "        # print im2.size\n",
    "        target = Image.new('RGB', (TARGET_WIDTH,UNIT_SIZE)) \n",
    "        target.paste(im22, (0, 0, 256, UNIT_SIZE))# 将image复制到target的指定位置中\n",
    "        target.paste(im11, (256, 0, 512, UNIT_SIZE))# 将image复制到target的指定位置中\n",
    "        destfile=dest+data[i]+str(j+1).zfill(4)+'.jpg'\n",
    "        target.save(destfile)"
   ]
  },
  {
   "cell_type": "code",
   "execution_count": 7,
   "metadata": {},
   "outputs": [],
   "source": [
    "root='/home/zzq/research/windows_file/IIIT-CFW1.0/label_cartoon/'\n",
    "dest='/home/zzq/PycharmProjects/cartoon_gan/img_no_label/'\n",
    "import os\n",
    "import shutil\n",
    "import numpy as np\n",
    "data=np.genfromtxt('/home/zzq/research/windows_file/IIIT-CFW1.0/name',dtype=str,delimiter='\\n')\n",
    "for i in range(len(data)):\n",
    "    cnt=11\n",
    "    for j in range(11,27):\n",
    "        img_name=root+data[i]+str(j).zfill(4)+'.jpg'\n",
    "        dest_name=dest+data[i]+str(j).zfill(4)+'.jpg'\n",
    "        if os.path.isfile(img_name):\n",
    "            shutil.copyfile(img_name,dest_name)\n",
    "        else:\n",
    "            # print data[i]\n",
    "            img_name=root+data[i]+str(cnt).zfill(4)+'.jpg'\n",
    "            if not os.path.isfile(img_name):\n",
    "                img_name=root+data[i]+str(cnt-1).zfill(4)+'.jpg'\n",
    "                dest_name=dest+data[i]+str(j).zfill(4)+'.jpg'\n",
    "                shutil.copyfile(img_name,dest_name)\n",
    "                continue\n",
    "            dest_name=dest+data[i]+str(j).zfill(4)+'.jpg'\n",
    "            shutil.copyfile(img_name,dest_name)\n",
    "            cnt+=1"
   ]
  },
  {
   "cell_type": "code",
   "execution_count": 8,
   "metadata": {},
   "outputs": [],
   "source": [
    "root='/home/zzq/PycharmProjects/cartoon_gan/img/'\n",
    "for i in range(len(data)):\n",
    "    os.mkdir(root+data[i])"
   ]
  },
  {
   "cell_type": "code",
   "execution_count": 9,
   "metadata": {},
   "outputs": [],
   "source": [
    "root='/home/zzq/research/windows_file/IIIT-CFW1.0/label_cartoon/'\n",
    "dest='/home/zzq/PycharmProjects/cartoon_gan/img/'\n",
    "import os\n",
    "import shutil\n",
    "import numpy as np\n",
    "data=np.genfromtxt('/home/zzq/research/windows_file/IIIT-CFW1.0/name',dtype=str,delimiter='\\n')\n",
    "for i in range(len(data)):\n",
    "    cnt=11\n",
    "    for j in range(11,27):\n",
    "        img_name=root+data[i]+str(j).zfill(4)+'.jpg'\n",
    "        dest_name=dest+data[i]+'/'+data[i]+str(j).zfill(4)+'.jpg'\n",
    "        if os.path.isfile(img_name):\n",
    "            shutil.copyfile(img_name,dest_name)\n",
    "        else:\n",
    "            # print data[i]\n",
    "            img_name=root+data[i]+str(cnt).zfill(4)+'.jpg'\n",
    "            if not os.path.isfile(img_name):\n",
    "                img_name=root+data[i]+str(cnt-1).zfill(4)+'.jpg'\n",
    "                dest_name=dest+data[i]+'/'+data[i]+str(j).zfill(4)+'.jpg'\n",
    "                shutil.copyfile(img_name,dest_name)\n",
    "                continue\n",
    "            dest_name=dest+data[i]+'/'+data[i]+str(j).zfill(4)+'.jpg'\n",
    "            shutil.copyfile(img_name,dest_name)\n",
    "            cnt+=1"
   ]
  },
  {
   "cell_type": "code",
   "execution_count": null,
   "metadata": {},
   "outputs": [],
   "source": [
    ""
   ]
  }
 ],
 "metadata": {
  "kernelspec": {
   "display_name": "Python 2",
   "language": "python",
   "name": "python2"
  },
  "language_info": {
   "codemirror_mode": {
    "name": "ipython",
    "version": 2.0
   },
   "file_extension": ".py",
   "mimetype": "text/x-python",
   "name": "python",
   "nbconvert_exporter": "python",
   "pygments_lexer": "ipython2",
   "version": "2.7.6"
  }
 },
 "nbformat": 4,
 "nbformat_minor": 0
}