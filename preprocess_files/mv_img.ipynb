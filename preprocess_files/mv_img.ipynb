{
 "cells": [
  {
   "cell_type": "code",
   "execution_count": 1,
   "metadata": {
    "collapsed": true
   },
   "outputs": [
    {
     "name": "stdout",
     "output_type": "stream",
     "text": [
      "100\n"
     ]
    }
   ],
   "source": [
    "import os\n",
    "import glob\n",
    "dest='/home/zzq/research/windows_file/IIIT-CFW1.0/dest/'\n",
    "name={}\n",
    "for files in glob.glob('/home/zzq/research/windows_file/IIIT-CFW1.0/realFaces/*.jpg'):\n",
    "    filepath, filename = os.path.split(files)\n",
    "    l=filename.split('.')\n",
    "    my_name=filter(str.isalpha,l[0])\n",
    "    if name.has_key(my_name):\n",
    "        name[my_name]+=1\n",
    "    else:\n",
    "        name[my_name]=1\n",
    "print len(name)"
   ]
  },
  {
   "cell_type": "code",
   "execution_count": 3,
   "metadata": {},
   "outputs": [
    {
     "name": "stdout",
     "output_type": "stream",
     "text": [
      "['HillaryClinton', 'NicoleKidman', 'Beyonce', 'NelsonMandela', 'ArnoldSchwazegger', 'RowanAtkinson', 'Pele', 'CheGuevara', 'LanceArmstrong', 'MichaelJordan', 'AbrahamLincoln', 'LucilleBall', 'PrincessDiana', 'BillClinton', 'MichaelPhelps', 'JawaharlalNehru', 'SteveJobs', 'LataMangeshkar', 'PopeJohnPaulII', 'Amitabhbachan', 'PabloPicasso', 'KatrinaKaif', 'DalaiLama', 'SylvesterStallone', 'AdolfHitler', 'JohnFKennedy', 'WinstonChurchill', 'DanielRadicliffe', 'Shakira', 'RobertDowneyJr', 'JackieChan', 'MahatmaGandhi', 'CurtisJamesJacksonIII', 'JohnLennon', 'AlbertEinstein', 'PeterSellers', 'ScarlettJohansson', 'TaylorSwift', 'MartinLutherKing', 'IndiraGandhi', 'OprahWinfrey', 'MorganFreeman', 'KimJongUn', 'BritneySpears', 'RafaelNadal', 'TomCruise', 'MarilynMonroe', 'NarendraModi', 'Rajinikanth', 'QueenElizabethII', 'JohnnyDepp', 'RobynRihannaFenty', 'LaluPrasadYadav', 'AngelaMerkel', 'MattDamon', 'MichaelJackson', 'LionelMessi', 'LouisArmstrong', 'AngelinaJolie', 'DavidBeckham', 'LeonardoDiCaprio', 'ManmohanSingh', 'BradPitt', 'MuhammadAli', 'QuentinTarantino', 'MeganFox', 'StephenHawking', 'RussellCrowe', 'MalcolmX', 'BillGates', 'MotherTeresa', 'GeorgeClooney', 'LucianoPavarotti', 'AamirKhan', 'DanielCraig', 'CharlieChaplin', 'SachinTendulkar', 'DwayneJohnson', 'HughJackman', 'BruceWillis', 'BarackObama', 'JustinBieber', 'VladimirPutin', 'MargaretThatcher', 'KateMiddleton', 'UsainBolt', 'AishwaryaRai', 'PrinceCharles', 'MarkZuckerberg', 'PaulMcCartney', 'TigerWoods', 'ElvisPresley', 'PeterJackson', 'JKRowling', 'BruceLee', 'JayZ', 'SelenaGomez', 'JimCarrey', 'EmmaWatson', 'BhagatSingh']\n"
     ]
    }
   ],
   "source": [
    "l=name.keys()\n",
    "print l"
   ]
  },
  {
   "cell_type": "code",
   "execution_count": 5,
   "metadata": {},
   "outputs": [],
   "source": [
    "for i in range(len(l)):\n",
    "    dir_name=dest+l[i]\n",
    "    if not os.path.exists(dir_name):\n",
    "        os.mkdir(dir_name)"
   ]
  },
  {
   "cell_type": "code",
   "execution_count": 9,
   "metadata": {},
   "outputs": [
    {
     "name": "stdout",
     "output_type": "stream",
     "text": [
      "{'HillaryClinton': 10, 'NicoleKidman': 10, 'Beyonce': 10, 'NelsonMandela': 10, 'ArnoldSchwazegger': 10, 'RowanAtkinson': 10, 'Pele': 10, 'CheGuevara': 10, 'LanceArmstrong': 10, 'MichaelJordan': 10, 'AbrahamLincoln': 10, 'LucilleBall': 10, 'PrincessDiana': 10, 'BillClinton': 10, 'MichaelPhelps': 10, 'JawaharlalNehru': 10, 'SteveJobs': 10, 'LataMangeshkar': 10, 'PopeJohnPaulII': 10, 'Amitabhbachan': 10, 'PabloPicasso': 10, 'KatrinaKaif': 10, 'DalaiLama': 10, 'SylvesterStallone': 10, 'AdolfHitler': 10, 'JohnFKennedy': 10, 'WinstonChurchill': 10, 'DanielRadicliffe': 10, 'Shakira': 10, 'RobertDowneyJr': 10, 'JackieChan': 10, 'MahatmaGandhi': 10, 'CurtisJamesJacksonIII': 10, 'JohnLennon': 10, 'AlbertEinstein': 10, 'PeterSellers': 10, 'ScarlettJohansson': 10, 'TaylorSwift': 10, 'MartinLutherKing': 10, 'IndiraGandhi': 10, 'OprahWinfrey': 10, 'MorganFreeman': 10, 'KimJongUn': 10, 'BritneySpears': 10, 'RafaelNadal': 10, 'TomCruise': 10, 'MarilynMonroe': 10, 'NarendraModi': 10, 'Rajinikanth': 10, 'QueenElizabethII': 10, 'JohnnyDepp': 10, 'RobynRihannaFenty': 10, 'LaluPrasadYadav': 10, 'AngelaMerkel': 10, 'MattDamon': 10, 'MichaelJackson': 10, 'LionelMessi': 10, 'LouisArmstrong': 10, 'AngelinaJolie': 10, 'DavidBeckham': 10, 'LeonardoDiCaprio': 10, 'ManmohanSingh': 10, 'BradPitt': 10, 'MuhammadAli': 10, 'QuentinTarantino': 10, 'MeganFox': 10, 'StephenHawking': 10, 'RussellCrowe': 10, 'MalcolmX': 10, 'BillGates': 10, 'MotherTeresa': 10, 'GeorgeClooney': 10, 'LucianoPavarotti': 10, 'AamirKhan': 10, 'DanielCraig': 10, 'CharlieChaplin': 10, 'SachinTendulkar': 10, 'DwayneJohnson': 10, 'HughJackman': 10, 'BruceWillis': 10, 'BarackObama': 10, 'JustinBieber': 10, 'VladimirPutin': 10, 'MargaretThatcher': 10, 'KateMiddleton': 10, 'UsainBolt': 10, 'AishwaryaRai': 10, 'PrinceCharles': 10, 'MarkZuckerberg': 10, 'PaulMcCartney': 10, 'TigerWoods': 10, 'ElvisPresley': 10, 'PeterJackson': 10, 'JKRowling': 10, 'BruceLee': 10, 'JayZ': 10, 'SelenaGomez': 10, 'JimCarrey': 10, 'EmmaWatson': 10, 'BhagatSingh': 10}\n"
     ]
    }
   ],
   "source": [
    "print name"
   ]
  },
  {
   "cell_type": "code",
   "execution_count": null,
   "metadata": {},
   "outputs": [],
   "source": [
    ""
   ]
  },
  {
   "cell_type": "code",
   "execution_count": 10,
   "metadata": {},
   "outputs": [],
   "source": [
    "import shutil"
   ]
  },
  {
   "cell_type": "code",
   "execution_count": 12,
   "metadata": {},
   "outputs": [],
   "source": [
    "name['JayZ']=0\n",
    "root='/home/zzq/research/windows_file/IIIT-CFW1.0/realFaces/'\n",
    "dest='/home/zzq/research/windows_file/IIIT-CFW1.0/dest/'\n",
    "for i in range(len(name)):\n",
    "    m=name[l[i]]\n",
    "    for j in range(m):\n",
    "        sourcefile=root+l[i]+str(j+1).zfill(4)+'.jpg'\n",
    "        targetfile=dest+l[i]+'/'+l[i]+str(j+1).zfill(4)+'.jpg'\n",
    "        shutil.copyfile(sourcefile,targetfile)"
   ]
  },
  {
   "cell_type": "code",
   "execution_count": 17,
   "metadata": {},
   "outputs": [],
   "source": [
    "name={}\n",
    "for files in glob.glob('/home/zzq/research/windows_file/IIIT-CFW1.0/cartoonFaces/*.jpeg'):\n",
    "    filepath, filename = os.path.split(files)\n",
    "    l=filename.split('.')\n",
    "    my_name=filter(str.isalpha,l[0])\n",
    "    if name.has_key(my_name):\n",
    "        name[my_name]+=1\n",
    "    else:\n",
    "        name[my_name]=1"
   ]
  },
  {
   "cell_type": "code",
   "execution_count": 18,
   "metadata": {},
   "outputs": [
    {
     "name": "stdout",
     "output_type": "stream",
     "text": [
      "99\n{'HillaryClinton': 121, 'NicoleKidman': 44, 'JawaharlalNehru': 22, 'NelsonMandela': 163, 'ArnoldSchwazegger': 87, 'RowanAtkinson': 86, 'Pele': 21, 'CheGuevara': 105, 'LanceArmstrong': 25, 'MichaelJordan': 71, 'AbrahamLincoln': 167, 'LucilleBall': 51, 'PrincessDiana': 71, 'BillClinton': 59, 'MichaelPhelps': 32, 'Beyonce': 45, 'SteveJobs': 112, 'LataMangeshkar': 13, 'PopeJohnPaulII': 52, 'MichaelJackson': 122, 'KatrinaKaif': 35, 'DalaiLama': 182, 'SylvesterStallone': 86, 'AdolfHitler': 82, 'JohnFKennedy': 61, 'BritneySpears': 92, 'DanielRadicliffe': 75, 'WinstonChurchill': 35, 'Shakira': 80, 'RobertDowneyJr': 100, 'JackieChan': 57, 'MahatmaGandhi': 97, 'NarendraModi': 198, 'AngelinaJolie': 299, 'AlbertEinstein': 201, 'PeterSellers': 16, 'ScarlettJohansson': 119, 'TaylorSwift': 113, 'MartinLutherKing': 144, 'IndiraGandhi': 31, 'OprahWinfrey': 42, 'MorganFreeman': 103, 'KimJongUn': 60, 'Amitabhbachan': 50, 'RafaelNadal': 48, 'LucianoPavarotti': 41, 'TomCruise': 76, 'MarilynMonroe': 199, 'Rajinikanth': 53, 'QueenElizabethII': 53, 'JohnnyDepp': 269, 'RobynRihannaFenty': 62, 'LaluPrasadYadav': 75, 'AngelaMerkel': 57, 'MattDamon': 56, 'PabloPicasso': 42, 'LionelMessi': 121, 'LouisArmstrong': 51, 'PeterJackson': 11, 'DavidBeckham': 79, 'LeonardoDiCaprio': 143, 'ManmohanSingh': 114, 'BradPitt': 133, 'MuhammadAli': 55, 'QuentinTarantino': 61, 'MeganFox': 142, 'JayZ': 36, 'MalcolmX': 12, 'BillGates': 66, 'MotherTeresa': 132, 'GeorgeClooney': 88, 'CurtisJamesJacksonIII': 20, 'AamirKhan': 42, 'DanielCraig': 93, 'JohnLennon': 125, 'CharlieChaplin': 123, 'SachinTendulkar': 59, 'DwayneJohnson': 79, 'HughJackman': 198, 'BruceWillis': 122, 'BarackObama': 259, 'JustinBieber': 162, 'VladimirPutin': 160, 'MargaretThatcher': 51, 'KateMiddleton': 58, 'UsainBolt': 72, 'AishwaryaRai': 105, 'PrinceCharles': 51, 'MarkZuckerberg': 53, 'PaulMcCartney': 67, 'TigerWoods': 42, 'ElvisPresley': 88, 'JKRowling': 13, 'BruceLee': 168, 'StephenHawking': 40, 'SelenaGomez': 85, 'JimCarrey': 86, 'EmmaWatson': 249, 'BhagatSingh': 53}\n"
     ]
    }
   ],
   "source": [
    "print len(name)\n",
    "print name"
   ]
  },
  {
   "cell_type": "code",
   "execution_count": 19,
   "metadata": {},
   "outputs": [],
   "source": [
    "destdir='/home/zzq/research/windows_file/IIIT-CFW1.0/dest/'\n",
    "l=name.keys()\n",
    "for i in range(len(l)):\n",
    "    dir_name=dest+l[i]\n",
    "    if not os.path.exists(dir_name):\n",
    "        os.mkdir(dir_name)"
   ]
  },
  {
   "cell_type": "code",
   "execution_count": 20,
   "metadata": {},
   "outputs": [
    {
     "ename": "TypeError",
     "evalue": "descriptor '__exit__' requires a 'file' object but received a 'str'",
     "traceback": [
      "\u001b[0;31m\u001b[0m",
      "\u001b[0;31mTypeError\u001b[0mTraceback (most recent call last)",
      "\u001b[0;32m<ipython-input-20-bb90ff9624f3>\u001b[0m in \u001b[0;36m<module>\u001b[0;34m()\u001b[0m\n\u001b[1;32m      7\u001b[0m         \u001b[0msourcefile\u001b[0m\u001b[0;34m=\u001b[0m\u001b[0mroot\u001b[0m\u001b[0;34m+\u001b[0m\u001b[0ml\u001b[0m\u001b[0;34m[\u001b[0m\u001b[0mi\u001b[0m\u001b[0;34m]\u001b[0m\u001b[0;34m+\u001b[0m\u001b[0mstr\u001b[0m\u001b[0;34m(\u001b[0m\u001b[0mj\u001b[0m\u001b[0;34m+\u001b[0m\u001b[0;36m1\u001b[0m\u001b[0;34m)\u001b[0m\u001b[0;34m.\u001b[0m\u001b[0mzfill\u001b[0m\u001b[0;34m(\u001b[0m\u001b[0;36m4\u001b[0m\u001b[0;34m)\u001b[0m\u001b[0;34m+\u001b[0m\u001b[0;34m'.jpeg'\u001b[0m\u001b[0;34m\u001b[0m\u001b[0m\n\u001b[1;32m      8\u001b[0m         \u001b[0mtargetfile\u001b[0m\u001b[0;34m=\u001b[0m\u001b[0mdest\u001b[0m\u001b[0;34m+\u001b[0m\u001b[0ml\u001b[0m\u001b[0;34m[\u001b[0m\u001b[0mi\u001b[0m\u001b[0;34m]\u001b[0m\u001b[0;34m+\u001b[0m\u001b[0;34m'/'\u001b[0m\u001b[0;34m+\u001b[0m\u001b[0ml\u001b[0m\u001b[0;34m[\u001b[0m\u001b[0mi\u001b[0m\u001b[0;34m]\u001b[0m\u001b[0;34m+\u001b[0m\u001b[0mstr\u001b[0m\u001b[0;34m(\u001b[0m\u001b[0mj\u001b[0m\u001b[0;34m+\u001b[0m\u001b[0;36m1\u001b[0m\u001b[0;34m)\u001b[0m\u001b[0;34m.\u001b[0m\u001b[0mzfill\u001b[0m\u001b[0;34m(\u001b[0m\u001b[0;36m4\u001b[0m\u001b[0;34m)\u001b[0m\u001b[0;34m+\u001b[0m\u001b[0;34m'.jpeg'\u001b[0m\u001b[0;34m\u001b[0m\u001b[0m\n\u001b[0;32m----> 9\u001b[0;31m         \u001b[0;32mif\u001b[0m \u001b[0mfile\u001b[0m\u001b[0;34m.\u001b[0m\u001b[0m__exit__\u001b[0m\u001b[0;34m(\u001b[0m\u001b[0msourcefile\u001b[0m\u001b[0;34m)\u001b[0m\u001b[0;34m:\u001b[0m\u001b[0;34m\u001b[0m\u001b[0m\n\u001b[0m\u001b[1;32m     10\u001b[0m             \u001b[0mshutil\u001b[0m\u001b[0;34m.\u001b[0m\u001b[0mcopyfile\u001b[0m\u001b[0;34m(\u001b[0m\u001b[0msourcefile\u001b[0m\u001b[0;34m,\u001b[0m\u001b[0mtargetfile\u001b[0m\u001b[0;34m)\u001b[0m\u001b[0;34m\u001b[0m\u001b[0m\n",
      "\u001b[0;31mTypeError\u001b[0m: descriptor '__exit__' requires a 'file' object but received a 'str'"
     ],
     "output_type": "error"
    }
   ],
   "source": [
    "name['JayZ']=0\n",
    "root='/home/zzq/research/windows_file/IIIT-CFW1.0/cartoonFaces/'\n",
    "dest='/home/zzq/research/windows_file/IIIT-CFW1.0/dest/'\n",
    "for i in range(len(name)):\n",
    "    m=name[l[i]]\n",
    "    for j in range(m+10):\n",
    "        sourcefile=root+l[i]+str(j+1).zfill(4)+'.jpeg'\n",
    "        targetfile=dest+l[i]+'/'+l[i]+str(j+1).zfill(4)+'.jpeg'\n",
    "        if os.path\n",
    "            shutil.copyfile(sourcefile,targetfile)"
   ]
  },
  {
   "cell_type": "code",
   "execution_count": null,
   "metadata": {},
   "outputs": [],
   "source": [
    ""
   ]
  }
 ],
 "metadata": {
  "kernelspec": {
   "display_name": "Python 2",
   "language": "python",
   "name": "python2"
  },
  "language_info": {
   "codemirror_mode": {
    "name": "ipython",
    "version": 2.0
   },
   "file_extension": ".py",
   "mimetype": "text/x-python",
   "name": "python",
   "nbconvert_exporter": "python",
   "pygments_lexer": "ipython2",
   "version": "2.7.6"
  }
 },
 "nbformat": 4,
 "nbformat_minor": 0
}