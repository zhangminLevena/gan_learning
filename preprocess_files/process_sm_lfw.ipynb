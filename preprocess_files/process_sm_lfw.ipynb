{
 "cells": [
  {
   "cell_type": "code",
   "execution_count": 1,
   "metadata": {
    "collapsed": true
   },
   "outputs": [
    {
     "name": "stdout",
     "output_type": "stream",
     "text": [
      "5760\n"
     ]
    }
   ],
   "source": [
    "import os,sys\n",
    "import glob\n",
    "import Image\n",
    "import shutil\n",
    "dirs=os.listdir(\"/home/zzq/Downloads/lfw_funneled\")\n",
    "print len(dirs)"
   ]
  },
  {
   "cell_type": "code",
   "execution_count": 2,
   "metadata": {},
   "outputs": [
    {
     "name": "stdout",
     "output_type": "stream",
     "text": [
      "Amanda_Plumer\n"
     ]
    }
   ],
   "source": [
    "print dirs[0]"
   ]
  },
  {
   "cell_type": "code",
   "execution_count": 4,
   "metadata": {},
   "outputs": [],
   "source": [
    "for i in range(len(dirs)):\n",
    "    for files in glob.glob(\"/home/zzq/Downloads/lfw_funneled/\"+dirs[i]+\"/*.jpg\"):\n",
    "        p,n=os.path.split(files)\n",
    "        shutil.move(files,\"/home/zzq/Downloads/lfw_funneled/\"+n)"
   ]
  },
  {
   "cell_type": "code",
   "execution_count": 6,
   "metadata": {},
   "outputs": [],
   "source": [
    "for files in glob.glob(\"/home/zzq/Downloads/parts_lfw_funneled_gt_images/*.ppm\"):\n",
    "    p,n=os.path.split(files)\n",
    "    r=Image.open(files)\n",
    "    r_re=r.resize((256,256),Image.ANTIALIAS)\n",
    "    name=n.split('.')\n",
    "    name_=name[0]\n",
    "    left_name=\"/home/zzq/Downloads/lfw_funneled/\"+name_\n",
    "    left=Image.open(left_name+'.jpg')\n",
    "    l_re=left.resize((256,256),Image.ANTIALIAS)\n",
    "    target=Image.new(\"RGB\",(512,256))\n",
    "    target.paste(l_re,(0,0,256,256))\n",
    "    target.paste(r_re,(256,0,512,256))\n",
    "    target.save(\"/home/zzq/Downloads/segnet_lfw/\"+name_+'.jpg')"
   ]
  },
  {
   "cell_type": "code",
   "execution_count": 12,
   "metadata": {},
   "outputs": [],
   "source": [
    "for files in glob.glob(\"/home/zzq/PycharmProjects/p2c/my_select_all/train/*.jpg\"):\n",
    "    p,n=os.path.split(files)\n",
    "    name=\"/home/zzq/PycharmProjects/p2c/my_select_all_test_others/all_train/\"+n\n",
    "    if os.path.exists(name):\n",
    "        os.remove(name)"
   ]
  },
  {
   "cell_type": "code",
   "execution_count": null,
   "metadata": {},
   "outputs": [],
   "source": [
    ""
   ]
  }
 ],
 "metadata": {
  "kernelspec": {
   "display_name": "Python 2",
   "language": "python",
   "name": "python2"
  },
  "language_info": {
   "codemirror_mode": {
    "name": "ipython",
    "version": 2.0
   },
   "file_extension": ".py",
   "mimetype": "text/x-python",
   "name": "python",
   "nbconvert_exporter": "python",
   "pygments_lexer": "ipython2",
   "version": "2.7.6"
  }
 },
 "nbformat": 4,
 "nbformat_minor": 0
}