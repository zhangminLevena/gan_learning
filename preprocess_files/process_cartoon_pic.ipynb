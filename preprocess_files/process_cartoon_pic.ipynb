{
 "cells": [
  {
   "cell_type": "code",
   "execution_count": 24,
   "metadata": {
    "collapsed": true
   },
   "outputs": [],
   "source": [
    "import os\n",
    "from PIL import Image\n",
    "def merge(name,data):\n",
    "    root='/home/zzq/PycharmProjects/p2c/fromothers/'+name\n",
    "    if not os.path.exists('/home/zzq/PycharmProjects/p2c/fromothers/dest/'+name):\n",
    "        os.mkdir('/home/zzq/PycharmProjects/p2c/fromothers/dest/'+name)\n",
    "    for i in range(len(data)):\n",
    "        for j in range(15):\n",
    "            cartoon_name=root+'/'+'cartoon_face/'+data[i]+'-'+str(j+1)+'.png'\n",
    "            if not os.path.exists(cartoon_name):\n",
    "                cartoon_name=root+'/'+'cartoon_face/'+data[i]+'-'+str(j+1)+'.jpg'\n",
    "                if not os.path.exists(cartoon_name):\n",
    "                    cartoon_name=root+'/'+'cartoon_face/'+data[i]+'-'+str(j+1)+'.jpeg'\n",
    "                    if not os.path.exists(cartoon_name):\n",
    "                        cartoon_name=root+'/'+'cartoon_face/'+data[i]+'-'+str(j+1)+'.PNG'\n",
    "                        if not os.path.exists(cartoon_name):\n",
    "                            continue\n",
    "            real_name=root+'/'+'realface/'+data[i]+'-'+str(j+1)+'.png'\n",
    "            if not os.path.exists(real_name):\n",
    "                real_name=root+'/'+'realface/'+data[i]+'-'+str(j+1)+'.jpg'\n",
    "                if not os.path.exists(real_name):\n",
    "                    real_name=root+'/'+'realface/'+data[i]+'-'+str(j+1)+'.jpeg'\n",
    "                    if not os.path.exists(real_name):\n",
    "                        real_name=root+'/'+'realface/'+data[i]+'-'+str(j+1)+'.PNG'\n",
    "                        if not os.path.exists(real_name):\n",
    "                            continue\n",
    "            cartoon_img=Image.open(cartoon_name)\n",
    "            resize_cartoon=cartoon_img.resize((256,256),Image.ANTIALIAS)\n",
    "            real_img=Image.open(real_name)\n",
    "            resize_real=real_img.resize((256,256), Image.ANTIALIAS)\n",
    "            target = Image.new('RGB', (512,256)) \n",
    "            target.paste(resize_real, (0, 0, 256, 256))# 将image复制到target的指定位置中\n",
    "            target.paste(resize_cartoon, (256, 0, 512, 256))\n",
    "            target.save('/home/zzq/PycharmProjects/p2c/fromothers/dest/'+data[i]+str(10+j+1)+'.jpg')"
   ]
  },
  {
   "cell_type": "code",
   "execution_count": 2,
   "metadata": {},
   "outputs": [],
   "source": [
    "import numpy as np\n",
    "data=np.genfromtxt(\"/home/zzq/research/windows_file/IIIT-CFW1.0/name\",dtype=str,delimiter=',')"
   ]
  },
  {
   "cell_type": "code",
   "execution_count": 25,
   "metadata": {},
   "outputs": [],
   "source": [
    "data1=data[:10]\n",
    "merge(\"1-10\",data1)\n",
    "data1=data[10:20]\n",
    "merge(\"11-20\",data1)\n",
    "data1=data[20:30]\n",
    "merge(\"21-30\",data1)\n",
    "data1=data[30:40]\n",
    "merge(\"31-40\",data1)\n",
    "data1=data[40:50]\n",
    "merge(\"41-50\",data1)\n",
    "data1=data[50:60]\n",
    "merge(\"51-60\",data1)\n",
    "data1=data[60:70]\n",
    "merge(\"61-70\",data1)\n",
    "data1=data[70:80]\n",
    "merge(\"71-80\",data1)\n",
    "# data1=data[80:90]\n",
    "# merge(\"81-90\",data1)\n",
    "# data1=data[90:]\n",
    "# merge(\"91-100\",data1)"
   ]
  },
  {
   "cell_type": "code",
   "execution_count": 13,
   "metadata": {},
   "outputs": [],
   "source": [
    "import shutil\n",
    "import glob\n",
    "def my_rename(name,rename):\n",
    "    for i in range(10):\n",
    "        src_name='/home/zzq/PycharmProjects/p2c/fromothers/61-70/real_face/'+name+'/'+'Í¼Æ¬'+str(i+1)+'.png'\n",
    "        if not os.path.exists(src_name):\n",
    "            continue\n",
    "        shutil.copyfile(src_name,'/home/zzq/PycharmProjects/p2c/fromothers/61-70/real_face/'+rename+'-'+str(i+1)+'.png')"
   ]
  },
  {
   "cell_type": "code",
   "execution_count": 14,
   "metadata": {},
   "outputs": [],
   "source": [
    "my_rename('64.64.Muhammad Ali','MuhammadAli')"
   ]
  },
  {
   "cell_type": "code",
   "execution_count": 20,
   "metadata": {},
   "outputs": [],
   "source": [
    "my_rename('70.Bill Gates','BillGates')"
   ]
  },
  {
   "cell_type": "code",
   "execution_count": 26,
   "metadata": {},
   "outputs": [],
   "source": [
    "for i in range(80):\n",
    "    name='/home/zzq/PycharmProjects/p2c/p2c/411/'+data[i]+'*.jpg'\n",
    "    for files in glob.glob(name):\n",
    "        p,n=os.path.split(files)\n",
    "        shutil.move(files,'/home/zzq/PycharmProjects/p2c/p2c/'+n)"
   ]
  },
  {
   "cell_type": "code",
   "execution_count": 31,
   "metadata": {},
   "outputs": [],
   "source": [
    "import os\n",
    "from PIL import Image\n",
    "for files in glob.glob(('/home/zzq/imprave/pytorch-CycleGAN-and-pix2pix/datasets/all/all_val/*.jpg')):\n",
    "    img=Image.open(files)\n",
    "    a=img.crop((0,0,256,256))\n",
    "    p,n=os.path.split(files)\n",
    "    a.save('/home/zzq/imprave/pytorch-CycleGAN-and-pix2pix/datasets/all/testA/'+n)\n",
    "    b=img.crop((256,0,512,256))\n",
    "    b.save('/home/zzq/imprave/pytorch-CycleGAN-and-pix2pix/datasets/all/testB/'+n)"
   ]
  },
  {
   "cell_type": "code",
   "execution_count": null,
   "metadata": {},
   "outputs": [],
   "source": [
    ""
   ]
  }
 ],
 "metadata": {
  "kernelspec": {
   "display_name": "Python 2",
   "language": "python",
   "name": "python2"
  },
  "language_info": {
   "codemirror_mode": {
    "name": "ipython",
    "version": 2.0
   },
   "file_extension": ".py",
   "mimetype": "text/x-python",
   "name": "python",
   "nbconvert_exporter": "python",
   "pygments_lexer": "ipython2",
   "version": "2.7.6"
  }
 },
 "nbformat": 4,
 "nbformat_minor": 0
}