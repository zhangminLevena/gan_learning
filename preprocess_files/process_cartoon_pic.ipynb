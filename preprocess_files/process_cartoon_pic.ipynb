{
 "cells": [
  {
   "cell_type": "code",
   "execution_count": 2,
   "metadata": {
    "collapsed": true
   },
   "outputs": [],
   "source": [
    "import os\n",
    "from PIL import Image\n",
    "def merge(name,data):\n",
    "    root='/home/zzq/PycharmProjects/p2c/fromothers/'+name\n",
    "    for i in range(len(data)):\n",
    "        for j in range(15):\n",
    "            cartoon_name=root+'/'+'cartoon_face/'+data[i]+'-'+str(j+1)+'.png'\n",
    "            if not os.path.exists(cartoon_name):\n",
    "                cartoon_name=root+'/'+'cartoon_face/'+data[i]+'-'+str(j+1)+'.jpg'\n",
    "                if not os.path.exists(cartoon_name):\n",
    "                    cartoon_name=root+'/'+'cartoon_face/'+data[i]+'-'+str(j+1)+'.jpeg'\n",
    "                    if not os.path.exists(cartoon_name):\n",
    "                        break\n",
    "            real_name=root+'/'+'realface/'+data[i]+'-'+str(j+1)+'.png'\n",
    "            if not os.path.exists(real_name):\n",
    "                real_name=root+'/'+'realface/'+data[i]+'-'+str(j+1)+'.jpg'\n",
    "                if not os.path.exists(real_name):\n",
    "                    real_name=root+'/'+'realface/'+data[i]+'-'+str(j+1)+'.jpeg'\n",
    "                    if not os.path.exists(real_name):\n",
    "                        break\n",
    "            cartoon_img=Image.open(cartoon_name)\n",
    "            resize_cartoon=cartoon_img.resize((256,256),Image.ANTIALIAS)\n",
    "            real_img=Image.open(real_name)\n",
    "            resize_real=real_img.resize((256,256), Image.ANTIALIAS)\n",
    "            target = Image.new('RGB', (512,256)) \n",
    "            target.paste(resize_real, (0, 0, 256, 256))# 将image复制到target的指定位置中\n",
    "            target.paste(resize_cartoon, (256, 0, 512, 256))\n",
    "            target.save('/home/zzq/PycharmProjects/p2c/fromothers/dest/'+data[i]+str(10+j+1)+'.jpg')"
   ]
  },
  {
   "cell_type": "code",
   "execution_count": 3,
   "metadata": {},
   "outputs": [],
   "source": [
    "import numpy as np\n",
    "data=np.genfromtxt(\"/home/zzq/research/windows_file/IIIT-CFW1.0/name\",dtype=str,delimiter=',')"
   ]
  },
  {
   "cell_type": "code",
   "execution_count": 4,
   "metadata": {},
   "outputs": [],
   "source": [
    "data1=data[:10]\n",
    "merge(\"1-10\",data1)"
   ]
  },
  {
   "cell_type": "code",
   "execution_count": 6,
   "metadata": {},
   "outputs": [],
   "source": [
    "data1=data[30:40]\n",
    "merge(\"31-40\",data1)"
   ]
  },
  {
   "cell_type": "code",
   "execution_count": 7,
   "metadata": {},
   "outputs": [],
   "source": [
    "data1=data[50:60]\n",
    "merge(\"51-60\",data1)"
   ]
  },
  {
   "cell_type": "code",
   "execution_count": null,
   "metadata": {},
   "outputs": [],
   "source": [
    ""
   ]
  }
 ],
 "metadata": {
  "kernelspec": {
   "display_name": "Python 2",
   "language": "python",
   "name": "python2"
  },
  "language_info": {
   "codemirror_mode": {
    "name": "ipython",
    "version": 2.0
   },
   "file_extension": ".py",
   "mimetype": "text/x-python",
   "name": "python",
   "nbconvert_exporter": "python",
   "pygments_lexer": "ipython2",
   "version": "2.7.6"
  }
 },
 "nbformat": 4,
 "nbformat_minor": 0
}