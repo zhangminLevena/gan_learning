{
 "cells": [
  {
   "cell_type": "code",
   "execution_count": 1,
   "metadata": {
    "collapsed": true
   },
   "outputs": [],
   "source": [
    "import os\n",
    "import numpy as np\n",
    "data=np.genfromtxt(\"/home/zzq/research/windows_file/KDEF_cls_label\",dtype=unicode)"
   ]
  },
  {
   "cell_type": "code",
   "execution_count": 2,
   "metadata": {},
   "outputs": [
    {
     "name": "stdout",
     "output_type": "stream",
     "text": [
      "[u'DIFL' u'HAHR' u'NEHL' u'SUFL' u'ANS' u'SAS' u'SAFR' u'HAFL' u'SUFR'\n u'AFFL' u'NES' u'SUHR' u'AFHR' u'DIS' u'SUHL' u'HAFR' u'DIFR' u'AFHL'\n u'AFS' u'HAS' u'AFFR' u'SAHL' u'HAHL' u'SAHR' u'ANFR' u'ANHR' u'ANFL'\n u'NEFR' u'SUS' u'DIHL' u'SAFL' u'DIHR' u'NEHR' u'ANHL' u'NEFL']\n"
     ]
    }
   ],
   "source": [
    "print data"
   ]
  },
  {
   "cell_type": "code",
   "execution_count": 3,
   "metadata": {},
   "outputs": [],
   "source": [
    "def my_mkdir(name):\n",
    "    root='/home/zzq/research/windows_file/KDEF_5_cls/'\n",
    "    for i in range(35):\n",
    "        dir_name=root+name+str(i+1).zfill(2)\n",
    "        os.mkdir(dir_name)\n",
    "        for j in range(6):\n",
    "            dir_name2=dir_name+'/'+str(j+1)\n",
    "            os.mkdir(dir_name2)"
   ]
  },
  {
   "cell_type": "code",
   "execution_count": 4,
   "metadata": {},
   "outputs": [],
   "source": [
    "my_mkdir('AF')\n",
    "my_mkdir('BF')\n",
    "my_mkdir('BM')\n",
    "my_mkdir('AM')"
   ]
  },
  {
   "cell_type": "code",
   "execution_count": 6,
   "metadata": {},
   "outputs": [],
   "source": [
    "middle=[]\n",
    "for i in range(len(data)):\n",
    "    str_=data[i]\n",
    "    if str_[-1]=='S':\n",
    "        middle.append(str_)"
   ]
  },
  {
   "cell_type": "code",
   "execution_count": 8,
   "metadata": {},
   "outputs": [
    {
     "name": "stdout",
     "output_type": "stream",
     "text": [
      "[u'ANS', u'SAS', u'NES', u'DIS', u'AFS', u'HAS', u'SUS']\n"
     ]
    }
   ],
   "source": [
    "print middle"
   ]
  },
  {
   "cell_type": "code",
   "execution_count": 9,
   "metadata": {},
   "outputs": [
    {
     "name": "stdout",
     "output_type": "stream",
     "text": [
      "[u'ANS', u'SAS', u'DIS', u'AFS', u'HAS', u'SUS']\n"
     ]
    }
   ],
   "source": [
    "base='NE'\n",
    "middle.pop(2)\n",
    "print middle"
   ]
  },
  {
   "cell_type": "code",
   "execution_count": 10,
   "metadata": {},
   "outputs": [],
   "source": [
    "from PIL import Image\n",
    "import random"
   ]
  },
  {
   "cell_type": "code",
   "execution_count": 15,
   "metadata": {},
   "outputs": [],
   "source": [
    "def make_target(name):\n",
    "    train_list=set(range(1,36))\n",
    "    val=set(random.sample(range(1,36),7))\n",
    "    train_list=list(train_list-val)\n",
    "    val=list(val)\n",
    "    print len(train_list)\n",
    "    print len(val)\n",
    "    root='/home/zzq/research/windows_file/KDEF_resize/'\n",
    "    dest='/home/zzq/research/windows_file/KDEF_5_cls/'\n",
    "    for i in range(len(train_list)):\n",
    "        file_name_base=root+name+str(train_list[i]).zfill(2)+'/'+'NES.JPG'\n",
    "        base_img=Image.open(file_name_base)\n",
    "        for j in range(6):\n",
    "            file_name=root+name+str(train_list[i]).zfill(2)+'/'+middle[j]+'.JPG'\n",
    "            img=Image.open(file_name)\n",
    "            target = Image.new('RGB', (512,256)) \n",
    "            target.paste(img, (0, 0, 256, 256))# 将image复制到target的指定位置中\n",
    "            target.paste(base_img, (256, 0, 512, 256))# 将image复制到target的指定位置中\n",
    "            target.save(dest+'train/'+name+str(train_list[i]).zfill(2)+middle[j]+str(j+1)+'.jpg')\n",
    "    for i in range(len(val)):\n",
    "        file_name_base=root+name+str(val[i]).zfill(2)+'/'+'NES.JPG'\n",
    "        base_img=Image.open(file_name_base)\n",
    "        for j in range(6):\n",
    "            file_name=root+name+str(val[i]).zfill(2)+'/'+middle[j]+'.JPG'\n",
    "            img=Image.open(file_name)\n",
    "            target = Image.new('RGB', (512,256)) \n",
    "            target.paste(img, (0, 0, 256, 256))# 将image复制到target的指定位置中\n",
    "            target.paste(base_img, (256, 0, 512, 256))# 将image复制到target的指定位置中\n",
    "            target.save(dest+'val/'+name+str(val[i]).zfill(2)+middle[j]+str(j+1)+'.jpg')"
   ]
  },
  {
   "cell_type": "code",
   "execution_count": 16,
   "metadata": {},
   "outputs": [
    {
     "name": "stdout",
     "output_type": "stream",
     "text": [
      "28\n7\n"
     ]
    },
    {
     "name": "stdout",
     "output_type": "stream",
     "text": [
      "28\n7\n"
     ]
    },
    {
     "name": "stdout",
     "output_type": "stream",
     "text": [
      "28\n7\n"
     ]
    },
    {
     "name": "stdout",
     "output_type": "stream",
     "text": [
      "28\n7\n"
     ]
    }
   ],
   "source": [
    "make_target('AF')\n",
    "make_target('AM')\n",
    "make_target('BF')\n",
    "make_target('BM')"
   ]
  },
  {
   "cell_type": "code",
   "execution_count": 1,
   "metadata": {},
   "outputs": [],
   "source": [
    "from PIL import Image\n",
    "import random\n",
    "import os\n",
    "import numpy as np\n",
    "data=np.genfromtxt(\"/home/zzq/research/windows_file/KDEF_cls_label\",dtype=unicode)"
   ]
  },
  {
   "cell_type": "code",
   "execution_count": 2,
   "metadata": {},
   "outputs": [
    {
     "name": "stdout",
     "output_type": "stream",
     "text": [
      "[u'DIFL' u'HAHR' u'NEHL' u'SUFL' u'ANS' u'SAS' u'SAFR' u'HAFL' u'SUFR'\n u'AFFL' u'NES' u'SUHR' u'AFHR' u'DIS' u'SUHL' u'HAFR' u'DIFR' u'AFHL'\n u'AFS' u'HAS' u'AFFR' u'SAHL' u'HAHL' u'SAHR' u'ANFR' u'ANHR' u'ANFL'\n u'NEFR' u'SUS' u'DIHL' u'SAFL' u'DIHR' u'NEHR' u'ANHL' u'NEFL']\n"
     ]
    }
   ],
   "source": [
    "base='NES'\n",
    "print data"
   ]
  },
  {
   "cell_type": "code",
   "execution_count": 4,
   "metadata": {},
   "outputs": [
    {
     "data": {
      "text/plain": [
       "u'NES'"
      ]
     },
     "execution_count": 4,
     "metadata": {},
     "output_type": "execute_result"
    }
   ],
   "source": [
    "data=list(data)\n",
    "data.pop(10)"
   ]
  },
  {
   "cell_type": "code",
   "execution_count": 5,
   "metadata": {},
   "outputs": [
    {
     "name": "stdout",
     "output_type": "stream",
     "text": [
      "34\n"
     ]
    }
   ],
   "source": [
    "print len(data)"
   ]
  },
  {
   "cell_type": "code",
   "execution_count": 13,
   "metadata": {},
   "outputs": [
    {
     "name": "stdout",
     "output_type": "stream",
     "text": [
      "[u'DIFL', u'HAHR', u'NEHL', u'SUFL', u'ANS', u'SAS', u'SAFR', u'HAFL', u'SUFR', u'AFFL', u'SUHR', u'AFHR', u'DIS', u'SUHL', u'HAFR', u'DIFR', u'AFHL', u'AFS', u'HAS', u'AFFR', u'SAHL', u'HAHL', u'SAHR', u'ANFR', u'ANHR', u'ANFL', u'NEFR', u'SUS', u'DIHL', u'SAFL', u'DIHR', u'NEHR', u'ANHL', u'NEFL']\n"
     ]
    }
   ],
   "source": [
    "print data"
   ]
  },
  {
   "cell_type": "code",
   "execution_count": 17,
   "metadata": {},
   "outputs": [
    {
     "name": "stdout",
     "output_type": "stream",
     "text": [
      "34\n"
     ]
    }
   ],
   "source": [
    "print len(data)"
   ]
  },
  {
   "cell_type": "code",
   "execution_count": 18,
   "metadata": {},
   "outputs": [],
   "source": [
    "def make_target(name,data):\n",
    "    train_list=set(range(1,36))\n",
    "    val=set(random.sample(range(1,36),7))\n",
    "    train_list=list(train_list-val)\n",
    "    val=list(val)\n",
    "    print train_list\n",
    "    print val\n",
    "    print len(train_list)\n",
    "    print len(val)\n",
    "    root='/home/zzq/research/windows_file/KDEF_resize/'\n",
    "    dest='/home/zzq/research/windows_file/KDEF_34_cls/'\n",
    "    for i in range(len(train_list)):\n",
    "        file_name_base=root+name+str(train_list[i]).zfill(2)+'/'+'NES.JPG'\n",
    "        base_img=Image.open(file_name_base)\n",
    "        for j in range(34):\n",
    "            file_name=root+name+str(train_list[i]).zfill(2)+'/'+data[j]+'.JPG'\n",
    "            img=Image.open(file_name)\n",
    "            target = Image.new('RGB', (512,256)) \n",
    "            target.paste(img, (0, 0, 256, 256))# 将image复制到target的指定位置中\n",
    "            target.paste(base_img, (256, 0, 512, 256))# 将image复制到target的指定位置中\n",
    "            target.save(dest+'train/'+name+str(train_list[i]).zfill(2)+data[j]+str(j+1)+'.jpg')\n",
    "    for i in range(len(val)):\n",
    "        file_name_base=root+name+str(val[i]).zfill(2)+'/'+'NES.JPG'\n",
    "        base_img=Image.open(file_name_base)\n",
    "        for j in range(34):\n",
    "            file_name=root+name+str(val[i]).zfill(2)+'/'+data[j]+'.JPG'\n",
    "            img=Image.open(file_name)\n",
    "            target = Image.new('RGB', (512,256)) \n",
    "            target.paste(img, (0, 0, 256, 256))# 将image复制到target的指定位置中\n",
    "            target.paste(base_img, (256, 0, 512, 256))# 将image复制到target的指定位置中\n",
    "            target.save(dest+'val/'+name+str(val[i]).zfill(2)+data[j]+str(j+1)+'.jpg')"
   ]
  },
  {
   "cell_type": "code",
   "execution_count": 19,
   "metadata": {},
   "outputs": [
    {
     "name": "stdout",
     "output_type": "stream",
     "text": [
      "[1, 3, 4, 5, 6, 7, 9, 10, 11, 12, 13, 15, 16, 17, 18, 19, 22, 23, 24, 25, 26, 27, 28, 29, 30, 32, 33, 34]\n[2, 35, 8, 14, 20, 21, 31]\n28\n7\n"
     ]
    },
    {
     "name": "stdout",
     "output_type": "stream",
     "text": [
      "[2, 3, 4, 5, 6, 7, 8, 9, 10, 11, 12, 14, 16, 17, 18, 19, 20, 21, 22, 23, 25, 26, 27, 30, 31, 32, 33, 34]\n[1, 35, 13, 15, 24, 28, 29]\n28\n7\n"
     ]
    },
    {
     "name": "stdout",
     "output_type": "stream",
     "text": [
      "[2, 3, 4, 6, 7, 9, 11, 12, 13, 14, 15, 16, 17, 18, 19, 20, 21, 22, 23, 24, 25, 26, 27, 29, 32, 33, 34, 35]\n[1, 5, 8, 10, 28, 30, 31]\n28\n7\n"
     ]
    },
    {
     "name": "stdout",
     "output_type": "stream",
     "text": [
      "[1, 2, 3, 4, 5, 6, 7, 9, 10, 12, 13, 15, 16, 18, 19, 20, 21, 22, 23, 24, 25, 27, 29, 31, 32, 33, 34, 35]\n[8, 11, 14, 17, 26, 28, 30]\n28\n7\n"
     ]
    }
   ],
   "source": [
    "make_target('AF',data)\n",
    "make_target('BF',data)\n",
    "make_target('AM',data)\n",
    "make_target('BM',data)"
   ]
  },
  {
   "cell_type": "code",
   "execution_count": 1,
   "metadata": {},
   "outputs": [],
   "source": [
    "import shutil\n",
    "import os\n",
    "import glob\n",
    "from PIL import Image\n",
    "dest='/home/zzq/imprave/pytorch-CycleGAN-and-pix2pix/datasets/cartoon/trainA/'\n",
    "for files in glob.glob(\"/home/zzq/research/windows_file/IIIT-CFW1.0/cartoonFaces/*.jpeg\"):\n",
    "    file_path,file_name=os.path.split(files)\n",
    "    filn=file_name.split(\".\")\n",
    "    name=filn[0]\n",
    "    img=Image.open(files)\n",
    "    img_resize=img.resize((256,256), Image.ANTIALIAS)\n",
    "    img_resize.save(dest+name+'.jpg')\n",
    "for files in glob.glob(\"/home/zzq/research/windows_file/IIIT-CFW1.0/cartoonFaces/*.jpg\"):\n",
    "    file_path,file_name=os.path.split(files)\n",
    "    filn=file_name.split(\".\")\n",
    "    name=filn[0]\n",
    "    img=Image.open(files)\n",
    "    img_resize=img.resize((256,256), Image.ANTIALIAS)\n",
    "    img_resize.save(dest+name+'.jpg')"
   ]
  },
  {
   "cell_type": "code",
   "execution_count": 2,
   "metadata": {},
   "outputs": [],
   "source": [
    "dest='/home/zzq/imprave/pytorch-CycleGAN-and-pix2pix/datasets/cartoon/trainB/'\n",
    "for files in glob.glob(\"/home/zzq/research/windows_file/IIIT-CFW1.0/realFaces/*.jpg\"):\n",
    "    file_path,file_name=os.path.split(files)\n",
    "    filn=file_name.split(\".\")\n",
    "    name=filn[0]\n",
    "    img=Image.open(files)\n",
    "    img_resize=img.resize((256,256), Image.ANTIALIAS)\n",
    "    img_resize.save(dest+name+'.jpg')"
   ]
  },
  {
   "cell_type": "code",
   "execution_count": 3,
   "metadata": {},
   "outputs": [
    {
     "name": "stdout",
     "output_type": "stream",
     "text": [
      "8928\n"
     ]
    }
   ],
   "source": [
    "path=glob.glob(\"/home/zzq/imprave/pytorch-CycleGAN-and-pix2pix/datasets/cartoon/trainA/*.jpg\")\n",
    "print len(path)"
   ]
  },
  {
   "cell_type": "code",
   "execution_count": 4,
   "metadata": {},
   "outputs": [],
   "source": [
    "import random\n",
    "test=random.sample(range(1,8929),1000)\n",
    "dest='/home/zzq/imprave/pytorch-CycleGAN-and-pix2pix/datasets/cartoon/testA/'\n",
    "for i in range(len(test)):\n",
    "    file_path,file_name=os.path.split(path[test[i]-1])\n",
    "    dest_file=dest+file_name\n",
    "    shutil.move(path[test[i]-1],dest_file)"
   ]
  },
  {
   "cell_type": "code",
   "execution_count": 5,
   "metadata": {},
   "outputs": [
    {
     "name": "stdout",
     "output_type": "stream",
     "text": [
      "1000\n"
     ]
    }
   ],
   "source": [
    "path=glob.glob(\"/home/zzq/imprave/pytorch-CycleGAN-and-pix2pix/datasets/cartoon/trainB/*.jpg\")\n",
    "print len(path)\n",
    "test=random.sample(range(1,1001),120)\n",
    "dest='/home/zzq/imprave/pytorch-CycleGAN-and-pix2pix/datasets/cartoon/testB/'\n",
    "for i in range(len(test)):\n",
    "    file_path,file_name=os.path.split(path[test[i]-1])\n",
    "    dest_file=dest+file_name\n",
    "    shutil.move(path[test[i]-1],dest_file)"
   ]
  },
  {
   "cell_type": "code",
   "execution_count": null,
   "metadata": {},
   "outputs": [],
   "source": [
    "for files in glob.glob('/home/zzq/PycharmProjects/KEDF/KEDF_34/val/*.jpg'):\n",
    "    file_path,file_name=os.path.split(files)\n",
    "    fin=file_name.split('.')\n",
    "    fin=fin[0]\n",
    "    len_str=len(fin)\n",
    "    str_my=fin[len_str-2:]\n",
    "    if str_my.isdigit():\n",
    "        label=int(str_my)\n",
    "        if label==20 or 24 or 16 or 15 or 27:\n",
    "            img=Image.open(files)\n",
    "            crop_1=img.crop([0, 0, 256, 256])\n",
    "            crop_2=img.crop([256, 0, 512, 256])\n",
    "        else:\n",
    "            continue\n",
    "            \n",
    "    else:\n",
    "        label=int(fin[-1])\n",
    "        if label==7 or 9:\n",
    "            img=Image.open(files)\n",
    "            crop_1=img.crop([0, 0, 256, 256])\n",
    "            crop_2=img.crop([256, 0, 512, 256])"
   ]
  },
  {
   "cell_type": "code",
   "execution_count": 8,
   "metadata": {},
   "outputs": [],
   "source": [
    "for files in glob.glob('/home/zzq/PycharmProjects/KEDF/KEDF_34/train/*.jpg'):\n",
    "    file_path,file_name=os.path.split(files)\n",
    "    fin=file_name.split('.')\n",
    "    fin=fin[0]\n",
    "    len_str=len(fin)\n",
    "    str_my=fin[len_str-2:]\n",
    "    if str_my.isdigit():\n",
    "        label=int(str_my)\n",
    "        if label==20:\n",
    "            img=Image.open(files)\n",
    "            crop_1=img.crop([0, 0, 256, 256])\n",
    "            crop_2=img.crop([256, 0, 512, 256])\n",
    "            crop_1.save('/home/zzq/imprave/pytorch-CycleGAN-and-pix2pix/datasets/KDEF_face_positive/trainA/'+file_name)\n",
    "            crop_2.save('/home/zzq/imprave/pytorch-CycleGAN-and-pix2pix/datasets/KDEF_face_positive/trainB/'+file_name)\n",
    "        else:\n",
    "            continue\n",
    "            \n",
    "    else:\n",
    "        continue"
   ]
  },
  {
   "cell_type": "code",
   "execution_count": 12,
   "metadata": {},
   "outputs": [],
   "source": [
    "for files in glob.glob('/home/zzq/PycharmProjects/KEDF/KEDF_34/train/*.jpg'):\n",
    "    file_path,file_name=os.path.split(files)\n",
    "    fin=file_name.split('.')\n",
    "    fin=fin[0]\n",
    "    len_str=len(fin)\n",
    "    str_my=fin[len_str-2:]\n",
    "    if str_my.isdigit():\n",
    "        label=int(str_my)\n",
    "        if label==19 or label==22  or label==15:\n",
    "            # img=Image.open(files)\n",
    "            dest_file='/home/zzq/PycharmProjects/KEDF/KDEF_4/train/'+file_name\n",
    "            shutil.copyfile(files,dest_file)\n",
    "        else:\n",
    "            continue\n",
    "            \n",
    "    else:\n",
    "        label=int(fin[-1])\n",
    "        if label==2 or label==8:\n",
    "            dest_file='/home/zzq/PycharmProjects/KEDF/KDEF_4/train/'+file_name\n",
    "            shutil.copyfile(files,dest_file)"
   ]
  },
  {
   "cell_type": "code",
   "execution_count": null,
   "metadata": {},
   "outputs": [],
   "source": [
    ""
   ]
  }
 ],
 "metadata": {
  "kernelspec": {
   "display_name": "Python 2",
   "language": "python",
   "name": "python2"
  },
  "language_info": {
   "codemirror_mode": {
    "name": "ipython",
    "version": 2.0
   },
   "file_extension": ".py",
   "mimetype": "text/x-python",
   "name": "python",
   "nbconvert_exporter": "python",
   "pygments_lexer": "ipython2",
   "version": "2.7.6"
  }
 },
 "nbformat": 4,
 "nbformat_minor": 0
}